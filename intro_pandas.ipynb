{
 "cells": [
  {
   "cell_type": "code",
   "execution_count": 1,
   "id": "ac16ef91",
   "metadata": {},
   "outputs": [],
   "source": [
    "import psutil\n",
    "import sys\n",
    "import numpy as np\n",
    "import pandas as pd"
   ]
  },
  {
   "cell_type": "code",
   "execution_count": 2,
   "id": "196ea388",
   "metadata": {},
   "outputs": [
    {
     "name": "stdout",
     "output_type": "stream",
     "text": [
      "Available RAM: 5.49 GB\n"
     ]
    }
   ],
   "source": [
    "# print amount of available RAM memory\n",
    "print(f\"Available RAM: {psutil.virtual_memory().available / (1024 ** 3):.2f} GB\")"
   ]
  },
  {
   "cell_type": "code",
   "execution_count": 3,
   "id": "ad5f334d",
   "metadata": {},
   "outputs": [],
   "source": [
    "# create a list of numbers with more than 100 MB of RAM\n",
    "big_int_list = list(range(1_000_000))\n",
    "big_float_list = [float(x) for x in big_int_list]"
   ]
  },
  {
   "cell_type": "code",
   "execution_count": 4,
   "id": "568341b8",
   "metadata": {},
   "outputs": [
    {
     "name": "stdout",
     "output_type": "stream",
     "text": [
      "Memory used by big_int_list: 7.629 MB\n",
      "Memory used by big_float_list: 8.057 MB\n"
     ]
    }
   ],
   "source": [
    "print(f\"Memory used by big_int_list: {sys.getsizeof(big_int_list) / (1024 ** 2):.3f} MB\")\n",
    "print(f\"Memory used by big_float_list: {sys.getsizeof(big_float_list) / (1024 ** 2):.3f} MB\")"
   ]
  },
  {
   "cell_type": "code",
   "execution_count": 5,
   "id": "5cc32530",
   "metadata": {},
   "outputs": [],
   "source": [
    "numpy_int_array = np.array(big_int_list)\n",
    "numpy_float_array = np.array(big_float_list)"
   ]
  },
  {
   "cell_type": "code",
   "execution_count": 6,
   "id": "cb1a3af7",
   "metadata": {},
   "outputs": [
    {
     "name": "stdout",
     "output_type": "stream",
     "text": [
      "Memory used by numpy_int_array: 7.629 MB\n",
      "Memory used by numpy_float_array: 7.629 MB\n"
     ]
    }
   ],
   "source": [
    "print(f\"Memory used by numpy_int_array: {numpy_int_array.nbytes / (1024 ** 2):.3f} MB\")\n",
    "print(f\"Memory used by numpy_float_array: {numpy_float_array.nbytes / (1024 ** 2):.3f} MB\")"
   ]
  },
  {
   "cell_type": "code",
   "execution_count": 7,
   "id": "2dc5f6a0",
   "metadata": {},
   "outputs": [],
   "source": [
    "df = pd.DataFrame({\n",
    "    \"integers\": big_int_list,\n",
    "    \"floats\": big_float_list,\n",
    "    \"numpy_integers\": numpy_int_array,\n",
    "    \"numpy_floats\": numpy_float_array\n",
    "})"
   ]
  },
  {
   "cell_type": "code",
   "execution_count": 8,
   "id": "653b2bd1",
   "metadata": {},
   "outputs": [
    {
     "name": "stdout",
     "output_type": "stream",
     "text": [
      "Memory used by df: 30.518 MB\n"
     ]
    }
   ],
   "source": [
    "print(f\"Memory used by df: {sys.getsizeof(df) / (1024 ** 2):.3f} MB\")"
   ]
  },
  {
   "cell_type": "code",
   "execution_count": 9,
   "id": "dadffc03",
   "metadata": {},
   "outputs": [
    {
     "data": {
      "application/vnd.microsoft.datawrangler.viewer.v0+json": {
       "columns": [
        {
         "name": "index",
         "rawType": "object",
         "type": "string"
        },
        {
         "name": "0",
         "rawType": "object",
         "type": "unknown"
        }
       ],
       "ref": "6a024c17-a5c9-44a4-b63b-365ebc562711",
       "rows": [
        [
         "integers",
         "int64"
        ],
        [
         "floats",
         "float64"
        ],
        [
         "numpy_integers",
         "int64"
        ],
        [
         "numpy_floats",
         "float64"
        ]
       ],
       "shape": {
        "columns": 1,
        "rows": 4
       }
      },
      "text/plain": [
       "integers            int64\n",
       "floats            float64\n",
       "numpy_integers      int64\n",
       "numpy_floats      float64\n",
       "dtype: object"
      ]
     },
     "execution_count": 9,
     "metadata": {},
     "output_type": "execute_result"
    }
   ],
   "source": [
    "df.dtypes"
   ]
  },
  {
   "cell_type": "code",
   "execution_count": 10,
   "id": "66f4cd44",
   "metadata": {},
   "outputs": [
    {
     "data": {
      "application/vnd.microsoft.datawrangler.viewer.v0+json": {
       "columns": [
        {
         "name": "index",
         "rawType": "int64",
         "type": "integer"
        },
        {
         "name": "integers",
         "rawType": "int64",
         "type": "integer"
        },
        {
         "name": "floats",
         "rawType": "float64",
         "type": "float"
        },
        {
         "name": "numpy_integers",
         "rawType": "int64",
         "type": "integer"
        },
        {
         "name": "numpy_floats",
         "rawType": "float64",
         "type": "float"
        }
       ],
       "ref": "ecdcb27b-8e81-4efe-ab07-e7c1af547886",
       "rows": [
        [
         "0",
         "0",
         "0.0",
         "0",
         "0.0"
        ],
        [
         "1",
         "1",
         "1.0",
         "1",
         "1.0"
        ],
        [
         "2",
         "2",
         "2.0",
         "2",
         "2.0"
        ],
        [
         "3",
         "3",
         "3.0",
         "3",
         "3.0"
        ],
        [
         "4",
         "4",
         "4.0",
         "4",
         "4.0"
        ]
       ],
       "shape": {
        "columns": 4,
        "rows": 5
       }
      },
      "text/html": [
       "<div>\n",
       "<style scoped>\n",
       "    .dataframe tbody tr th:only-of-type {\n",
       "        vertical-align: middle;\n",
       "    }\n",
       "\n",
       "    .dataframe tbody tr th {\n",
       "        vertical-align: top;\n",
       "    }\n",
       "\n",
       "    .dataframe thead th {\n",
       "        text-align: right;\n",
       "    }\n",
       "</style>\n",
       "<table border=\"1\" class=\"dataframe\">\n",
       "  <thead>\n",
       "    <tr style=\"text-align: right;\">\n",
       "      <th></th>\n",
       "      <th>integers</th>\n",
       "      <th>floats</th>\n",
       "      <th>numpy_integers</th>\n",
       "      <th>numpy_floats</th>\n",
       "    </tr>\n",
       "  </thead>\n",
       "  <tbody>\n",
       "    <tr>\n",
       "      <th>0</th>\n",
       "      <td>0</td>\n",
       "      <td>0.0</td>\n",
       "      <td>0</td>\n",
       "      <td>0.0</td>\n",
       "    </tr>\n",
       "    <tr>\n",
       "      <th>1</th>\n",
       "      <td>1</td>\n",
       "      <td>1.0</td>\n",
       "      <td>1</td>\n",
       "      <td>1.0</td>\n",
       "    </tr>\n",
       "    <tr>\n",
       "      <th>2</th>\n",
       "      <td>2</td>\n",
       "      <td>2.0</td>\n",
       "      <td>2</td>\n",
       "      <td>2.0</td>\n",
       "    </tr>\n",
       "    <tr>\n",
       "      <th>3</th>\n",
       "      <td>3</td>\n",
       "      <td>3.0</td>\n",
       "      <td>3</td>\n",
       "      <td>3.0</td>\n",
       "    </tr>\n",
       "    <tr>\n",
       "      <th>4</th>\n",
       "      <td>4</td>\n",
       "      <td>4.0</td>\n",
       "      <td>4</td>\n",
       "      <td>4.0</td>\n",
       "    </tr>\n",
       "  </tbody>\n",
       "</table>\n",
       "</div>"
      ],
      "text/plain": [
       "   integers  floats  numpy_integers  numpy_floats\n",
       "0         0     0.0               0           0.0\n",
       "1         1     1.0               1           1.0\n",
       "2         2     2.0               2           2.0\n",
       "3         3     3.0               3           3.0\n",
       "4         4     4.0               4           4.0"
      ]
     },
     "execution_count": 10,
     "metadata": {},
     "output_type": "execute_result"
    }
   ],
   "source": [
    "df.head()"
   ]
  },
  {
   "cell_type": "code",
   "execution_count": 11,
   "id": "0f6d5c6c",
   "metadata": {},
   "outputs": [],
   "source": [
    "df.loc[0:5, [\"integers\", \"floats\"]] = 0"
   ]
  },
  {
   "cell_type": "code",
   "execution_count": null,
   "id": "e4738246",
   "metadata": {},
   "outputs": [],
   "source": []
  }
 ],
 "metadata": {
  "kernelspec": {
   "display_name": "Python 3",
   "language": "python",
   "name": "python3"
  },
  "language_info": {
   "codemirror_mode": {
    "name": "ipython",
    "version": 3
   },
   "file_extension": ".py",
   "mimetype": "text/x-python",
   "name": "python",
   "nbconvert_exporter": "python",
   "pygments_lexer": "ipython3",
   "version": "3.13.7"
  }
 },
 "nbformat": 4,
 "nbformat_minor": 5
}
