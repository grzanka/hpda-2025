{
 "cells": [
  {
   "cell_type": "code",
   "execution_count": 1,
   "id": "ac16ef91",
   "metadata": {},
   "outputs": [],
   "source": [
    "import psutil\n",
    "import sys"
   ]
  },
  {
   "cell_type": "code",
   "execution_count": 2,
   "id": "196ea388",
   "metadata": {},
   "outputs": [
    {
     "name": "stdout",
     "output_type": "stream",
     "text": [
      "Available RAM: 20.52 GB\n"
     ]
    }
   ],
   "source": [
    "# print amount of available RAM memory\n",
    "print(f\"Available RAM: {psutil.virtual_memory().available / (1024 ** 3):.2f} GB\")"
   ]
  },
  {
   "cell_type": "code",
   "execution_count": 3,
   "id": "ad5f334d",
   "metadata": {},
   "outputs": [],
   "source": [
    "# create a list of numbers with more than 100 MB of RAM\n",
    "big_list = list(range(20_000_000))"
   ]
  },
  {
   "cell_type": "code",
   "execution_count": 4,
   "id": "568341b8",
   "metadata": {},
   "outputs": [
    {
     "name": "stdout",
     "output_type": "stream",
     "text": [
      "Memory used by big_list: 152.588 MB\n"
     ]
    }
   ],
   "source": [
    "print(f\"Memory used by big_list: {sys.getsizeof(big_list) / (1024 ** 2):.3f} MB\")"
   ]
  },
  {
   "cell_type": "code",
   "execution_count": 5,
   "id": "5409a261",
   "metadata": {},
   "outputs": [
    {
     "name": "stdout",
     "output_type": "stream",
     "text": [
      "Memory used by big_list after appending one element: 171.661 MB\n"
     ]
    }
   ],
   "source": [
    "# add one integer at the end of the list, check its size and memory usage\n",
    "big_list.append(1)\n",
    "print(f\"Memory used by big_list after appending one element: {sys.getsizeof(big_list) / (1024 ** 2):.3f} MB\")"
   ]
  },
  {
   "cell_type": "code",
   "execution_count": 16,
   "id": "879176b3",
   "metadata": {},
   "outputs": [
    {
     "name": "stdout",
     "output_type": "stream",
     "text": [
      "Memory used by big_list after appending one element: 309.340 MB\n"
     ]
    }
   ],
   "source": [
    "# add one integer at the end of the list, check its size and memory usage\n",
    "big_list.append(1)\n",
    "print(f\"Memory used by big_list after appending one element: {sys.getsizeof(big_list) / (1024 ** 2):.3f} MB\")"
   ]
  },
  {
   "cell_type": "code",
   "execution_count": 7,
   "id": "92fb33e5",
   "metadata": {},
   "outputs": [
    {
     "name": "stdout",
     "output_type": "stream",
     "text": [
      "Memory used after appending element 2500002: 193.119 MB, added 21.458 MB\n",
      "Memory used after appending element 5312506: 217.259 MB, added 24.140 MB\n",
      "Memory used after appending element 8476574: 244.416 MB, added 27.157 MB\n",
      "Memory used after appending element 12036150: 274.969 MB, added 30.552 MB\n",
      "Memory used after appending element 16040674: 309.340 MB, added 34.371 MB\n"
     ]
    }
   ],
   "source": [
    "for i in range(len(big_list)):\n",
    "    size_of_big_list = sys.getsizeof(big_list)\n",
    "    big_list.append(i)\n",
    "    if size_of_big_list != sys.getsizeof(big_list):\n",
    "        print(f\"Memory used after appending element {i}: {sys.getsizeof(big_list) / (1024 ** 2):.3f} MB, added {(sys.getsizeof(big_list) - size_of_big_list) / 1024**2:.3f} MB\")\n",
    "        size_of_big_list = sys.getsizeof(big_list)"
   ]
  },
  {
   "cell_type": "code",
   "execution_count": 8,
   "id": "2e4a154e",
   "metadata": {},
   "outputs": [],
   "source": [
    "# exercise : increase the size of big_list until it reaches 10 GB, print memory usage each time it increases"
   ]
  },
  {
   "cell_type": "code",
   "execution_count": 17,
   "id": "895c31f5",
   "metadata": {},
   "outputs": [],
   "source": [
    "with open('some.csv', 'w', newline='') as f:\n",
    "    for row in big_list:\n",
    "        f.write(f\"{row}\\n\")"
   ]
  },
  {
   "cell_type": "code",
   "execution_count": null,
   "id": "2dc5f6a0",
   "metadata": {},
   "outputs": [],
   "source": []
  }
 ],
 "metadata": {
  "kernelspec": {
   "display_name": ".venv (3.13.3)",
   "language": "python",
   "name": "python3"
  },
  "language_info": {
   "codemirror_mode": {
    "name": "ipython",
    "version": 3
   },
   "file_extension": ".py",
   "mimetype": "text/x-python",
   "name": "python",
   "nbconvert_exporter": "python",
   "pygments_lexer": "ipython3",
   "version": "3.13.3"
  }
 },
 "nbformat": 4,
 "nbformat_minor": 5
}
