{
 "cells": [
  {
   "cell_type": "code",
   "execution_count": null,
   "id": "ac16ef91",
   "metadata": {},
   "outputs": [
    {
     "ename": "",
     "evalue": "",
     "output_type": "error",
     "traceback": [
      "\u001b[1;31mRunning cells with 'Python 3.13.7' requires the ipykernel package.\n",
      "\u001b[1;31mInstall 'ipykernel' into the Python environment. \n",
      "\u001b[1;31mCommand: 'c:/Users/grzanka/workspace/hpda-2025/venv/Scripts/python.exe -m pip install ipykernel -U --user --force-reinstall'"
     ]
    }
   ],
   "source": [
    "import psutil\n",
    "import sys"
   ]
  },
  {
   "cell_type": "code",
   "execution_count": null,
   "id": "196ea388",
   "metadata": {},
   "outputs": [],
   "source": [
    "# print amount of available RAM memory\n",
    "print(f\"Available RAM: {psutil.virtual_memory().available / (1024 ** 3):.2f} GB\")"
   ]
  },
  {
   "cell_type": "code",
   "execution_count": null,
   "id": "ad5f334d",
   "metadata": {},
   "outputs": [],
   "source": [
    "# create a list of numbers with more than 100 MB of RAM\n",
    "big_list = list(range(20_000_000))"
   ]
  },
  {
   "cell_type": "code",
   "execution_count": null,
   "id": "568341b8",
   "metadata": {},
   "outputs": [],
   "source": [
    "print(f\"Memory used by big_list: {sys.getsizeof(big_list) / (1024 ** 2):.3f} MB\")"
   ]
  },
  {
   "cell_type": "code",
   "execution_count": null,
   "id": "5409a261",
   "metadata": {},
   "outputs": [],
   "source": [
    "# add one integer at the end of the list, check its size and memory usage\n",
    "big_list.append(1)\n",
    "print(f\"Memory used by big_list after appending one element: {sys.getsizeof(big_list) / (1024 ** 2):.3f} MB\")"
   ]
  },
  {
   "cell_type": "code",
   "execution_count": null,
   "id": "879176b3",
   "metadata": {},
   "outputs": [],
   "source": [
    "# add one integer at the end of the list, check its size and memory usage\n",
    "big_list.append(1)\n",
    "print(f\"Memory used by big_list after appending one element: {sys.getsizeof(big_list) / (1024 ** 2):.3f} MB\")"
   ]
  },
  {
   "cell_type": "code",
   "execution_count": null,
   "id": "92fb33e5",
   "metadata": {},
   "outputs": [],
   "source": [
    "for i in range(len(big_list)):\n",
    "    size_of_big_list = sys.getsizeof(big_list)\n",
    "    big_list.append(i)\n",
    "    if size_of_big_list != sys.getsizeof(big_list):\n",
    "        print(f\"Memory used after appending element {i}: {sys.getsizeof(big_list) / (1024 ** 2):.3f} MB, added {(sys.getsizeof(big_list) - size_of_big_list) / 1024**2:.3f} MB\")\n",
    "        size_of_big_list = sys.getsizeof(big_list)"
   ]
  },
  {
   "cell_type": "code",
   "execution_count": null,
   "id": "2e4a154e",
   "metadata": {},
   "outputs": [],
   "source": [
    "# exercise : increase the size of big_list until it reaches 10 GB, print memory usage each time it increases"
   ]
  },
  {
   "cell_type": "code",
   "execution_count": null,
   "id": "895c31f5",
   "metadata": {},
   "outputs": [],
   "source": [
    "with open('some.csv', 'w', newline='') as f:\n",
    "    for row in big_list:\n",
    "        f.write(f\"{row}\\n\")"
   ]
  },
  {
   "cell_type": "code",
   "execution_count": null,
   "id": "2dc5f6a0",
   "metadata": {},
   "outputs": [],
   "source": []
  }
 ],
 "metadata": {
  "kernelspec": {
   "display_name": "Python 3",
   "language": "python",
   "name": "python3"
  },
  "language_info": {
   "codemirror_mode": {
    "name": "ipython",
    "version": 3
   },
   "file_extension": ".py",
   "mimetype": "text/x-python",
   "name": "python",
   "nbconvert_exporter": "python",
   "pygments_lexer": "ipython3",
   "version": "3.13.7"
  }
 },
 "nbformat": 4,
 "nbformat_minor": 5
}
