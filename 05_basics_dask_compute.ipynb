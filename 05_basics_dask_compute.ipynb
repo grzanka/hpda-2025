{
 "cells": [
  {
   "cell_type": "code",
   "execution_count": 1,
   "id": "ac16ef91",
   "metadata": {},
   "outputs": [],
   "source": [
    "import pathlib\n",
    "import dask.dataframe as dd\n",
    "import psutil\n",
    "import numpy as np\n",
    "import pandas as pd"
   ]
  },
  {
   "cell_type": "code",
   "execution_count": 2,
   "id": "196ea388",
   "metadata": {},
   "outputs": [
    {
     "name": "stdout",
     "output_type": "stream",
     "text": [
      "Available RAM: 175.64 GB\n"
     ]
    }
   ],
   "source": [
    "# print amount of available RAM memory\n",
    "print(f\"Available RAM: {psutil.virtual_memory().available / (1024 ** 3):.2f} GB\")"
   ]
  },
  {
   "cell_type": "code",
   "execution_count": 3,
   "id": "3b90fb13",
   "metadata": {},
   "outputs": [
    {
     "data": {
      "text/plain": [
       "True"
      ]
     },
     "execution_count": 3,
     "metadata": {},
     "output_type": "execute_result"
    }
   ],
   "source": [
    "# using pathlib create directory called meteo\n",
    "data_raw_path = pathlib.Path(\"meteo\") / \"meteo_dask.h5\"\n",
    "data_raw_path.exists()"
   ]
  },
  {
   "cell_type": "code",
   "execution_count": 4,
   "id": "59c628f5",
   "metadata": {},
   "outputs": [],
   "source": [
    "df = dd.read_hdf(data_raw_path, key='df')"
   ]
  },
  {
   "cell_type": "code",
   "execution_count": 5,
   "id": "08bb1ac2",
   "metadata": {},
   "outputs": [
    {
     "data": {
      "text/html": [
       "<div>\n",
       "<style scoped>\n",
       "    .dataframe tbody tr th:only-of-type {\n",
       "        vertical-align: middle;\n",
       "    }\n",
       "\n",
       "    .dataframe tbody tr th {\n",
       "        vertical-align: top;\n",
       "    }\n",
       "\n",
       "    .dataframe thead th {\n",
       "        text-align: right;\n",
       "    }\n",
       "</style>\n",
       "<table border=\"1\" class=\"dataframe\">\n",
       "  <thead>\n",
       "    <tr style=\"text-align: right;\">\n",
       "      <th></th>\n",
       "      <th>Date</th>\n",
       "      <th>Time</th>\n",
       "      <th>TempOut</th>\n",
       "      <th>TempHi</th>\n",
       "      <th>TempLow</th>\n",
       "      <th>HumOut</th>\n",
       "      <th>DewPt</th>\n",
       "      <th>WindSpeed</th>\n",
       "      <th>WindDir</th>\n",
       "      <th>WindRun</th>\n",
       "      <th>...</th>\n",
       "      <th>CoolDD</th>\n",
       "      <th>TempIn</th>\n",
       "      <th>HumIn</th>\n",
       "      <th>DewPtIn</th>\n",
       "      <th>HeatIn</th>\n",
       "      <th>ET</th>\n",
       "      <th>WindSamp</th>\n",
       "      <th>WindTx</th>\n",
       "      <th>ISSRecept</th>\n",
       "      <th>ArcInt</th>\n",
       "    </tr>\n",
       "  </thead>\n",
       "  <tbody>\n",
       "    <tr>\n",
       "      <th>0</th>\n",
       "      <td>24-12-29</td>\n",
       "      <td>0:30</td>\n",
       "      <td>0.4</td>\n",
       "      <td>0.4</td>\n",
       "      <td>0.3</td>\n",
       "      <td>98</td>\n",
       "      <td>0.1</td>\n",
       "      <td>0.0</td>\n",
       "      <td>NE</td>\n",
       "      <td>0.0</td>\n",
       "      <td>...</td>\n",
       "      <td>0.0</td>\n",
       "      <td>18.4</td>\n",
       "      <td>30</td>\n",
       "      <td>0.5</td>\n",
       "      <td>16.4</td>\n",
       "      <td>0.0</td>\n",
       "      <td>699.0</td>\n",
       "      <td>1.0</td>\n",
       "      <td>100.0</td>\n",
       "      <td>30.0</td>\n",
       "    </tr>\n",
       "    <tr>\n",
       "      <th>1</th>\n",
       "      <td>24-12-29</td>\n",
       "      <td>1:00</td>\n",
       "      <td>0.1</td>\n",
       "      <td>0.3</td>\n",
       "      <td>-0.1</td>\n",
       "      <td>98</td>\n",
       "      <td>-0.2</td>\n",
       "      <td>0.0</td>\n",
       "      <td>NE</td>\n",
       "      <td>0.0</td>\n",
       "      <td>...</td>\n",
       "      <td>0.0</td>\n",
       "      <td>18.4</td>\n",
       "      <td>30</td>\n",
       "      <td>0.5</td>\n",
       "      <td>16.4</td>\n",
       "      <td>0.0</td>\n",
       "      <td>699.0</td>\n",
       "      <td>1.0</td>\n",
       "      <td>100.0</td>\n",
       "      <td>30.0</td>\n",
       "    </tr>\n",
       "    <tr>\n",
       "      <th>2</th>\n",
       "      <td>24-12-29</td>\n",
       "      <td>1:30</td>\n",
       "      <td>-0.2</td>\n",
       "      <td>-0.1</td>\n",
       "      <td>-0.3</td>\n",
       "      <td>98</td>\n",
       "      <td>-0.5</td>\n",
       "      <td>0.0</td>\n",
       "      <td>NE</td>\n",
       "      <td>0.0</td>\n",
       "      <td>...</td>\n",
       "      <td>0.0</td>\n",
       "      <td>18.3</td>\n",
       "      <td>30</td>\n",
       "      <td>0.4</td>\n",
       "      <td>16.4</td>\n",
       "      <td>0.0</td>\n",
       "      <td>699.0</td>\n",
       "      <td>1.0</td>\n",
       "      <td>100.0</td>\n",
       "      <td>30.0</td>\n",
       "    </tr>\n",
       "    <tr>\n",
       "      <th>3</th>\n",
       "      <td>24-12-29</td>\n",
       "      <td>2:00</td>\n",
       "      <td>-0.3</td>\n",
       "      <td>-0.3</td>\n",
       "      <td>-0.4</td>\n",
       "      <td>98</td>\n",
       "      <td>-0.6</td>\n",
       "      <td>0.0</td>\n",
       "      <td>NE</td>\n",
       "      <td>0.0</td>\n",
       "      <td>...</td>\n",
       "      <td>0.0</td>\n",
       "      <td>18.3</td>\n",
       "      <td>30</td>\n",
       "      <td>0.4</td>\n",
       "      <td>16.3</td>\n",
       "      <td>0.0</td>\n",
       "      <td>700.0</td>\n",
       "      <td>1.0</td>\n",
       "      <td>100.0</td>\n",
       "      <td>30.0</td>\n",
       "    </tr>\n",
       "    <tr>\n",
       "      <th>4</th>\n",
       "      <td>24-12-29</td>\n",
       "      <td>2:30</td>\n",
       "      <td>-0.5</td>\n",
       "      <td>-0.4</td>\n",
       "      <td>-0.6</td>\n",
       "      <td>98</td>\n",
       "      <td>-0.8</td>\n",
       "      <td>0.0</td>\n",
       "      <td>NE</td>\n",
       "      <td>0.0</td>\n",
       "      <td>...</td>\n",
       "      <td>0.0</td>\n",
       "      <td>18.3</td>\n",
       "      <td>30</td>\n",
       "      <td>0.4</td>\n",
       "      <td>16.3</td>\n",
       "      <td>0.0</td>\n",
       "      <td>701.0</td>\n",
       "      <td>1.0</td>\n",
       "      <td>100.0</td>\n",
       "      <td>30.0</td>\n",
       "    </tr>\n",
       "  </tbody>\n",
       "</table>\n",
       "<p>5 rows × 36 columns</p>\n",
       "</div>"
      ],
      "text/plain": [
       "       Date  Time  TempOut  TempHi  TempLow  HumOut  DewPt  WindSpeed WindDir  \\\n",
       "0  24-12-29  0:30      0.4     0.4      0.3      98    0.1        0.0      NE   \n",
       "1  24-12-29  1:00      0.1     0.3     -0.1      98   -0.2        0.0      NE   \n",
       "2  24-12-29  1:30     -0.2    -0.1     -0.3      98   -0.5        0.0      NE   \n",
       "3  24-12-29  2:00     -0.3    -0.3     -0.4      98   -0.6        0.0      NE   \n",
       "4  24-12-29  2:30     -0.5    -0.4     -0.6      98   -0.8        0.0      NE   \n",
       "\n",
       "   WindRun  ...  CoolDD TempIn  HumIn  DewPtIn  HeatIn   ET  WindSamp  WindTx  \\\n",
       "0      0.0  ...     0.0   18.4     30      0.5    16.4  0.0     699.0     1.0   \n",
       "1      0.0  ...     0.0   18.4     30      0.5    16.4  0.0     699.0     1.0   \n",
       "2      0.0  ...     0.0   18.3     30      0.4    16.4  0.0     699.0     1.0   \n",
       "3      0.0  ...     0.0   18.3     30      0.4    16.3  0.0     700.0     1.0   \n",
       "4      0.0  ...     0.0   18.3     30      0.4    16.3  0.0     701.0     1.0   \n",
       "\n",
       "   ISSRecept  ArcInt  \n",
       "0      100.0    30.0  \n",
       "1      100.0    30.0  \n",
       "2      100.0    30.0  \n",
       "3      100.0    30.0  \n",
       "4      100.0    30.0  \n",
       "\n",
       "[5 rows x 36 columns]"
      ]
     },
     "execution_count": 5,
     "metadata": {},
     "output_type": "execute_result"
    }
   ],
   "source": [
    "df.head()"
   ]
  },
  {
   "cell_type": "code",
   "execution_count": 6,
   "id": "21d7868c",
   "metadata": {},
   "outputs": [
    {
     "data": {
      "text/plain": [
       "Date           string[pyarrow]\n",
       "Time           string[pyarrow]\n",
       "TempOut                float64\n",
       "TempHi                 float64\n",
       "TempLow                float64\n",
       "HumOut                   int64\n",
       "DewPt                  float64\n",
       "WindSpeed              float64\n",
       "WindDir        string[pyarrow]\n",
       "WindRun                float64\n",
       "WindSpeedHi            float64\n",
       "WindDirHi      string[pyarrow]\n",
       "WindChill              float64\n",
       "HeatIndex              float64\n",
       "THWIndex               float64\n",
       "THSWIndex              float64\n",
       "Bar                    float64\n",
       "Rain                   float64\n",
       "RainRate               float64\n",
       "SolarRad                 int64\n",
       "SolarEnergy            float64\n",
       "SolarRadHi               int64\n",
       "UVIndex                float64\n",
       "UVDose                 float64\n",
       "UVIndexHi              float64\n",
       "HeatDD                 float64\n",
       "CoolDD                 float64\n",
       "TempIn                 float64\n",
       "HumIn                    int64\n",
       "DewPtIn                float64\n",
       "HeatIn                 float64\n",
       "ET                     float64\n",
       "WindSamp               float64\n",
       "WindTx                 float64\n",
       "ISSRecept              float64\n",
       "ArcInt                 float64\n",
       "dtype: object"
      ]
     },
     "execution_count": 6,
     "metadata": {},
     "output_type": "execute_result"
    }
   ],
   "source": [
    "df.dtypes"
   ]
  },
  {
   "cell_type": "code",
   "execution_count": 7,
   "id": "f5ce86a5",
   "metadata": {},
   "outputs": [
    {
     "data": {
      "text/plain": [
       "14492"
      ]
     },
     "execution_count": 7,
     "metadata": {},
     "output_type": "execute_result"
    }
   ],
   "source": [
    "len(df)"
   ]
  },
  {
   "cell_type": "code",
   "execution_count": 8,
   "id": "c68d3d63",
   "metadata": {},
   "outputs": [
    {
     "data": {
      "text/plain": [
       "<dask_expr.expr.Scalar: expr=((Filter(frame=ArrowStringConversion(frame=FromMapProjectable(b5ad57a)), predicate=ArrowStringConversion(frame=FromMapProjectable(b5ad57a))['HumOut'] > 0))['TempOut']).mean(), dtype=float64>"
      ]
     },
     "execution_count": 8,
     "metadata": {},
     "output_type": "execute_result"
    }
   ],
   "source": [
    "df[df.HumOut > 0].TempOut.mean()"
   ]
  },
  {
   "cell_type": "code",
   "execution_count": 9,
   "id": "ef8c796f",
   "metadata": {},
   "outputs": [
    {
     "data": {
      "text/plain": [
       "np.float64(12.737954592505695)"
      ]
     },
     "execution_count": 9,
     "metadata": {},
     "output_type": "execute_result"
    }
   ],
   "source": [
    "df[df.HumOut > 0].TempOut.mean().compute()"
   ]
  },
  {
   "cell_type": "code",
   "execution_count": 10,
   "id": "71f5361d",
   "metadata": {},
   "outputs": [],
   "source": [
    "#df[df.HumOut > 0].TempOut.mean().visualize(engine='cytoscape')"
   ]
  },
  {
   "cell_type": "code",
   "execution_count": 11,
   "id": "ac5275fe",
   "metadata": {},
   "outputs": [
    {
     "data": {
      "text/plain": [
       "HumOut\n",
       "-1            NaN\n",
       " 23     20.900000\n",
       " 24     20.550000\n",
       " 25     20.233333\n",
       " 26     19.750000\n",
       "          ...    \n",
       " 96      6.606855\n",
       " 97      8.263484\n",
       " 98      8.850829\n",
       " 99     10.263918\n",
       " 100    15.185714\n",
       "Name: TempOut, Length: 78, dtype: float64"
      ]
     },
     "execution_count": 11,
     "metadata": {},
     "output_type": "execute_result"
    }
   ],
   "source": [
    "df.TempOut.groupby(df.HumOut).mean().compute()"
   ]
  },
  {
   "cell_type": "code",
   "execution_count": 12,
   "id": "a962a1f5",
   "metadata": {},
   "outputs": [],
   "source": [
    "#df.TempOut.groupby(df.HumOut).mean().visualize(engine='cytoscape')"
   ]
  },
  {
   "cell_type": "code",
   "execution_count": null,
   "id": "955acfd8",
   "metadata": {},
   "outputs": [],
   "source": []
  }
 ],
 "metadata": {
  "kernelspec": {
   "display_name": "venv (3.12.3)",
   "language": "python",
   "name": "python3"
  },
  "language_info": {
   "codemirror_mode": {
    "name": "ipython",
    "version": 3
   },
   "file_extension": ".py",
   "mimetype": "text/x-python",
   "name": "python",
   "nbconvert_exporter": "python",
   "pygments_lexer": "ipython3",
   "version": "3.12.3"
  }
 },
 "nbformat": 4,
 "nbformat_minor": 5
}
