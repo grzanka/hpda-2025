{
 "cells": [
  {
   "cell_type": "code",
   "execution_count": 2,
   "id": "ac16ef91",
   "metadata": {},
   "outputs": [],
   "source": [
    "import psutil\n",
    "import sys\n",
    "import os\n",
    "import numpy as np"
   ]
  },
  {
   "cell_type": "code",
   "execution_count": 3,
   "id": "196ea388",
   "metadata": {},
   "outputs": [
    {
     "name": "stdout",
     "output_type": "stream",
     "text": [
      "Available RAM: 6.91 GB\n"
     ]
    }
   ],
   "source": [
    "# print amount of available RAM memory\n",
    "print(f\"Available RAM: {psutil.virtual_memory().available / (1024 ** 3):.2f} GB\")"
   ]
  },
  {
   "cell_type": "code",
   "execution_count": 4,
   "id": "ad5f334d",
   "metadata": {},
   "outputs": [],
   "source": [
    "# create a numpy array of numbers using more than 100 MB of RAM\n",
    "big_array = np.arange(20_000_000)"
   ]
  },
  {
   "cell_type": "code",
   "execution_count": 5,
   "id": "568341b8",
   "metadata": {},
   "outputs": [
    {
     "name": "stdout",
     "output_type": "stream",
     "text": [
      "Memory used by big_array: 152.588 MB\n"
     ]
    }
   ],
   "source": [
    "print(f\"Memory used by big_array: {sys.getsizeof(big_array) / (1024 ** 2):.3f} MB\")"
   ]
  },
  {
   "cell_type": "code",
   "execution_count": 6,
   "id": "5409a261",
   "metadata": {},
   "outputs": [
    {
     "name": "stdout",
     "output_type": "stream",
     "text": [
      "Memory used by big_array after appending one element: 152.588 MB\n"
     ]
    }
   ],
   "source": [
    "# add one integer at the end of the list, check its size and memory usage\n",
    "big_array = np.append(big_array, 1)\n",
    "print(f\"Memory used by big_array after appending one element: {sys.getsizeof(big_array) / (1024 ** 2):.3f} MB\")"
   ]
  },
  {
   "cell_type": "code",
   "execution_count": 7,
   "id": "879176b3",
   "metadata": {},
   "outputs": [
    {
     "name": "stdout",
     "output_type": "stream",
     "text": [
      "Memory used by big_array after appending one element: 152.588 MB\n"
     ]
    }
   ],
   "source": [
    "# add one integer at the end of the list, check its size and memory usage\n",
    "big_array = np.append(big_array, 1)\n",
    "print(f\"Memory used by big_array after appending one element: {sys.getsizeof(big_array) / (1024 ** 2):.3f} MB\")"
   ]
  },
  {
   "cell_type": "code",
   "execution_count": 8,
   "id": "92fb33e5",
   "metadata": {},
   "outputs": [],
   "source": [
    "# try appending 100 times\n",
    "for i in range(100):\n",
    "    size_of_big_array = sys.getsizeof(big_array)\n",
    "    big_array = np.append(big_array, 1)"
   ]
  },
  {
   "cell_type": "code",
   "execution_count": 9,
   "id": "2e4a154e",
   "metadata": {},
   "outputs": [
    {
     "name": "stdout",
     "output_type": "stream",
     "text": [
      "Memory used by big_array after appending one element: 152.589 MB\n"
     ]
    }
   ],
   "source": [
    "print(f\"Memory used by big_array after appending one element: {sys.getsizeof(big_array) / (1024 ** 2):.3f} MB\")"
   ]
  },
  {
   "cell_type": "code",
   "execution_count": 10,
   "id": "895c31f5",
   "metadata": {},
   "outputs": [
    {
     "name": "stdout",
     "output_type": "stream",
     "text": [
      "Output file size on disk: 152.589 MB\n",
      "Memory used by big_array: 152.589 MB\n"
     ]
    }
   ],
   "source": [
    "output_file = 'big_array.npz'\n",
    "np.savez(output_file, big_array=big_array)\n",
    "\n",
    "# output file size on disk in MB, memory footprint of numpy array in MB\n",
    "print(f\"Output file size on disk: {os.path.getsize(output_file) / (1024 ** 2):.3f} MB\")\n",
    "print(f\"Memory used by big_array: {sys.getsizeof(big_array) / (1024 ** 2):.3f} MB\")"
   ]
  },
  {
   "cell_type": "code",
   "execution_count": 11,
   "id": "2dc5f6a0",
   "metadata": {},
   "outputs": [
    {
     "name": "stdout",
     "output_type": "stream",
     "text": [
      "Output file size on disk (compressed): 28.873 MB\n",
      "Memory used by big_array: 152.589 MB\n"
     ]
    }
   ],
   "source": [
    "output_file_compressed = 'big_array_compressed.npz'\n",
    "np.savez_compressed(output_file_compressed, big_array=big_array)\n",
    "# output file size on disk in MB, memory footprint of numpy array in MB\n",
    "print(f\"Output file size on disk (compressed): {os.path.getsize(output_file_compressed) / (1024 ** 2):.3f} MB\")\n",
    "print(f\"Memory used by big_array: {sys.getsizeof(big_array) / (1024 ** 2):.3f} MB\")"
   ]
  },
  {
   "cell_type": "code",
   "execution_count": 12,
   "id": "37b9e762",
   "metadata": {},
   "outputs": [],
   "source": [
    "# todo explain why repeating `np.append(big_array, 1)` is inefficient ?\n",
    "# exercise : increase the size of big_list until it reaches 10 GB, print memory usage each time it increases"
   ]
  }
 ],
 "metadata": {
  "kernelspec": {
   "display_name": "venv (3.12.10)",
   "language": "python",
   "name": "python3"
  },
  "language_info": {
   "codemirror_mode": {
    "name": "ipython",
    "version": 3
   },
   "file_extension": ".py",
   "mimetype": "text/x-python",
   "name": "python",
   "nbconvert_exporter": "python",
   "pygments_lexer": "ipython3",
   "version": "3.12.10"
  }
 },
 "nbformat": 4,
 "nbformat_minor": 5
}
