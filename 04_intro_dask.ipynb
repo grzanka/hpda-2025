{
 "cells": [
  {
   "cell_type": "markdown",
   "id": "5b55f33c",
   "metadata": {},
   "source": [
    "# Introduction to dask\n",
    "\n",
    "https://www.dask.org/\n",
    "\n",
    "## Scaling Beyond Single-Machine Limitations\n",
    "\n",
    "In this notebook, we'll explore:\n",
    "\n",
    "- **Parallel Computing Fundamentals**: Understanding when and why to scale beyond pandas\n",
    "- **Real-World Data Acquisition**: Downloading and processing meteorological datasets\n",
    "- **Lazy Evaluation**: Dask's approach to memory-efficient large dataset processing\n",
    "- **Distributed DataFrames**: Scaling pandas operations across multiple cores/machines\n",
    "- **I/O Optimization**: Efficient storage strategies for large-scale data analysis\n",
    "\n",
    "### Why Dask for High Performance Data Analysis?\n",
    "\n",
    "Dask extends the Python data science ecosystem by providing:\n",
    "\n",
    "1. **Familiar APIs**: Use pandas/NumPy syntax with automatic parallelization\n",
    "2. **Memory Efficiency**: Process larger datasets through intelligent chunking\n",
    "3. **Scalable Computing**: Scale from laptops to clusters with minimal code changes\n",
    "4. **Lazy Evaluation**: Build complex computation graphs before execution\n",
    "5. **Native Integration**: Seamless compatibility with existing Python data tools\n",
    "\n",
    "### When to Choose Dask Over Pandas\n",
    "\n",
    "**Use pandas when:**\n",
    "- Dataset fits comfortably in memory (< 50% of available RAM)\n",
    "- Interactive exploration and prototyping\n",
    "- Complex data cleaning requiring manual inspection\n",
    "\n",
    "**Use Dask when:**\n",
    "- Dataset approaches or exceeds available memory\n",
    "- Computations can be parallelized across multiple files/partitions\n",
    "- Need to scale to multiple machines"
   ]
  },
  {
   "cell_type": "code",
   "execution_count": 1,
   "id": "ac16ef91",
   "metadata": {},
   "outputs": [],
   "source": [
    "import pathlib\n",
    "import dask.dataframe\n",
    "import psutil\n",
    "import requests, re\n",
    "import pandas as pd\n",
    "import matplotlib.pylab as plt\n",
    "%matplotlib inline"
   ]
  },
  {
   "cell_type": "code",
   "execution_count": 2,
   "id": "196ea388",
   "metadata": {},
   "outputs": [
    {
     "name": "stdout",
     "output_type": "stream",
     "text": [
      "Available RAM: 4.48 GB\n"
     ]
    }
   ],
   "source": [
    "print(f\"Available RAM: {psutil.virtual_memory().available / (1024 ** 3):.2f} GB\")"
   ]
  },
  {
   "cell_type": "markdown",
   "id": "72a9befb",
   "metadata": {},
   "source": [
    "## 2. Real-World Data Acquisition "
   ]
  },
  {
   "cell_type": "markdown",
   "id": "b2bdb9f9",
   "metadata": {},
   "source": [
    "### Automated Weather Data Collection\n",
    "\n",
    "We'll demonstrate a realistic data acquisition scenario: downloading meteorological data from a scientific archive. This mirrors common HPDA patterns:\n",
    "\n",
    "- **Web scraping**: Extracting file listings from HTML pages\n",
    "- **Batch downloading**: Efficiently retrieving multiple files with progress monitoring  \n",
    "- **Robust I/O**: Using chunked downloads to handle network interruptions\n",
    "\n",
    "**Data Source**: Polish meteorological archive (meteo.gig.eu) - a realistic scientific dataset with multiple files requiring aggregation."
   ]
  },
  {
   "cell_type": "code",
   "execution_count": 3,
   "id": "3b90fb13",
   "metadata": {},
   "outputs": [],
   "source": [
    "# using pathlib create directory called meteo\n",
    "data_dir = pathlib.Path(\"meteo\")\n",
    "data_dir.mkdir(exist_ok=True)"
   ]
  },
  {
   "cell_type": "code",
   "execution_count": 4,
   "id": "3860ffdd",
   "metadata": {},
   "outputs": [
    {
     "name": "stdout",
     "output_type": "stream",
     "text": [
      "Downloading deed.pl\n",
      "Downloading 20250106.txt\n",
      "Downloading 20250113.txt\n",
      "Downloading 20250120.txt\n",
      "Downloading 20250127.txt\n",
      "Downloading 20250203.txt\n",
      "Downloading 20250210.txt\n",
      "Downloading 20250217.txt\n",
      "Downloading 20250224.txt\n",
      "Downloading 20250303.txt\n",
      "Downloading 20250310.txt\n",
      "Downloading 20250317.txt\n",
      "Downloading 20250324.txt\n",
      "Downloading 20250331.txt\n",
      "Downloading 20250407.txt\n",
      "Downloading 20250414.txt\n",
      "Downloading 20250421.txt\n",
      "Downloading 20250428.txt\n",
      "Downloading 20250505.txt\n",
      "Downloading 20250512.txt\n",
      "Downloading 20250519.txt\n",
      "Downloading 20250526.txt\n",
      "Downloading 20250602.txt\n",
      "Downloading 20250609.txt\n",
      "Downloading 20250616.txt\n",
      "Downloading 20250623.txt\n",
      "Downloading 20250630.txt\n",
      "Downloading 20250707.txt\n",
      "Downloading 20250714.txt\n",
      "Downloading 20250721.txt\n",
      "Downloading 20250728.txt\n",
      "Downloading 20250804.txt\n",
      "Downloading 20250811.txt\n",
      "Downloading 20250818.txt\n",
      "Downloading 20250825.txt\n",
      "Downloading 20250901.txt\n",
      "Downloading 20250908.txt\n",
      "Downloading 20250915.txt\n",
      "Downloading 20250922.txt\n"
     ]
    }
   ],
   "source": [
    "base = \"https://meteo.gig.eu/archiwum/2025/\"\n",
    "dest = pathlib.Path(\"meteo\")\n",
    "dest.mkdir(exist_ok=True)\n",
    "html = requests.get(base).text\n",
    "files = re.findall(r'href=\"([^\"]+\\.\\w+)\"', html)\n",
    "for f in files:\n",
    "    url = f if f.startswith(\"http\") else base + f\n",
    "    name = pathlib.Path(url).name\n",
    "    print(\"Downloading\", name)\n",
    "    with requests.get(url, stream=True) as r, open(dest/name, \"wb\") as out:\n",
    "        for chunk in r.iter_content(1024*64):\n",
    "            out.write(chunk)"
   ]
  },
  {
   "cell_type": "markdown",
   "id": "f5b2a345",
   "metadata": {},
   "source": [
    "### Exploring Data Structure"
   ]
  },
  {
   "cell_type": "code",
   "execution_count": 5,
   "id": "feeddf14",
   "metadata": {},
   "outputs": [
    {
     "data": {
      "text/plain": [
       "PosixPath('meteo/20250602.txt')"
      ]
     },
     "execution_count": 5,
     "metadata": {},
     "output_type": "execute_result"
    }
   ],
   "source": [
    "first_file = next(data_dir.glob(\"*.txt\"))\n",
    "first_file"
   ]
  },
  {
   "cell_type": "markdown",
   "id": "eff1e114",
   "metadata": {},
   "source": [
    "### Defining the Meteorological Data Schema\n",
    "\n",
    "Our weather station data contains 36 variables covering:\n",
    "\n",
    "- **Temperature measurements**: Indoor/outdoor, highs/lows, heat indices\n",
    "- **Humidity and moisture**: Relative humidity, dew points  \n",
    "- **Wind characteristics**: Speed, direction, gusts, wind chill\n",
    "- **Precipitation**: Rain amounts, rates\n",
    "- **Solar and UV**: Radiation measurements, UV index\n",
    "- **Atmospheric pressure**: Barometric pressure readings\n",
    "- **Energy calculations**: Heating/cooling degree days, evapotranspiration"
   ]
  },
  {
   "cell_type": "code",
   "execution_count": 6,
   "id": "0bde4f1d",
   "metadata": {},
   "outputs": [],
   "source": [
    "columns = [\n",
    "    \"Date\",\n",
    "    \"Time\",\n",
    "    \"TempOut\",\n",
    "    \"TempHi\",\n",
    "    \"TempLow\",\n",
    "    \"HumOut\",\n",
    "    \"DewPt\",\n",
    "    \"WindSpeed\",\n",
    "    \"WindDir\",\n",
    "    \"WindRun\",\n",
    "    \"WindSpeedHi\",\n",
    "    \"WindDirHi\",\n",
    "    \"WindChill\",\n",
    "    \"HeatIndex\",\n",
    "    \"THWIndex\",\n",
    "    \"THSWIndex\",\n",
    "    \"Bar\",\n",
    "    \"Rain\",\n",
    "    \"RainRate\",\n",
    "    \"SolarRad\",\n",
    "    \"SolarEnergy\",\n",
    "    \"SolarRadHi\",\n",
    "    \"UVIndex\",\n",
    "    \"UVDose\",\n",
    "    \"UVIndexHi\",\n",
    "    \"HeatDD\",\n",
    "    \"CoolDD\",\n",
    "    \"TempIn\",\n",
    "    \"HumIn\",\n",
    "    \"DewPtIn\",\n",
    "    \"HeatIn\",\n",
    "    \"ET\",\n",
    "    \"WindSamp\",\n",
    "    \"WindTx\",\n",
    "    \"ISSRecept\",\n",
    "    \"ArcInt\"\n",
    "]"
   ]
  },
  {
   "cell_type": "markdown",
   "id": "0ca0c548",
   "metadata": {},
   "source": [
    "## Single-File Processing with Pandas\n",
    "\n",
    "### Starting with Traditional Approach\n",
    "\n",
    "Before scaling to Dask, let's establish a baseline using pandas for single-file processing. This demonstrates:\n",
    "\n",
    "- **Data loading with custom parameters**: Handling whitespace-delimited files, custom headers, missing values\n",
    "- **Pandas flexibility**: `read_csv()` can handle complex file formats beyond simple CSV\n",
    "- **Missing value strategies**: Scientific data often contains instrument failures or measurement gaps\n",
    "\n",
    "**File Format Details**:\n",
    "- **Delimiter**: Whitespace-separated values (common in scientific data)  \n",
    "- **Headers**: Skip first 3 lines (metadata/headers)\n",
    "- **Missing values**: Represented as `---` or `------` (instrument-specific notation)\n",
    "- **Data types**: Mixed numerical data requiring type inference\n",
    "\n",
    "### Loading and Exploring Single File"
   ]
  },
  {
   "cell_type": "markdown",
   "id": "12a165ff",
   "metadata": {},
   "source": [
    "### Quick Data Quality Assessment\n",
    "\n",
    "Examining the first few rows helps verify:\n",
    "- **Data loading correctness**: Columns aligned properly, types detected correctly\n",
    "- **Missing value handling**: Confirm `---` values converted to NaN\n",
    "- **Data range validation**: Temperature, humidity values within expected ranges\n",
    "- **Temporal structure**: Date/time columns formatted appropriately\n",
    "\n",
    "This single-file exploration is essential before scaling to multiple files with Dask."
   ]
  },
  {
   "cell_type": "code",
   "execution_count": 7,
   "id": "8b020b96",
   "metadata": {},
   "outputs": [
    {
     "data": {
      "application/vnd.microsoft.datawrangler.viewer.v0+json": {
       "columns": [
        {
         "name": "index",
         "rawType": "int64",
         "type": "integer"
        },
        {
         "name": "Date",
         "rawType": "object",
         "type": "string"
        },
        {
         "name": "Time",
         "rawType": "object",
         "type": "string"
        },
        {
         "name": "TempOut",
         "rawType": "float64",
         "type": "float"
        },
        {
         "name": "TempHi",
         "rawType": "float64",
         "type": "float"
        },
        {
         "name": "TempLow",
         "rawType": "float64",
         "type": "float"
        },
        {
         "name": "HumOut",
         "rawType": "int64",
         "type": "integer"
        },
        {
         "name": "DewPt",
         "rawType": "float64",
         "type": "float"
        },
        {
         "name": "WindSpeed",
         "rawType": "float64",
         "type": "float"
        },
        {
         "name": "WindDir",
         "rawType": "object",
         "type": "unknown"
        },
        {
         "name": "WindRun",
         "rawType": "float64",
         "type": "float"
        },
        {
         "name": "WindSpeedHi",
         "rawType": "float64",
         "type": "float"
        },
        {
         "name": "WindDirHi",
         "rawType": "object",
         "type": "unknown"
        },
        {
         "name": "WindChill",
         "rawType": "float64",
         "type": "float"
        },
        {
         "name": "HeatIndex",
         "rawType": "float64",
         "type": "float"
        },
        {
         "name": "THWIndex",
         "rawType": "float64",
         "type": "float"
        },
        {
         "name": "THSWIndex",
         "rawType": "float64",
         "type": "float"
        },
        {
         "name": "Bar",
         "rawType": "float64",
         "type": "float"
        },
        {
         "name": "Rain",
         "rawType": "float64",
         "type": "float"
        },
        {
         "name": "RainRate",
         "rawType": "float64",
         "type": "float"
        },
        {
         "name": "SolarRad",
         "rawType": "int64",
         "type": "integer"
        },
        {
         "name": "SolarEnergy",
         "rawType": "float64",
         "type": "float"
        },
        {
         "name": "SolarRadHi",
         "rawType": "int64",
         "type": "integer"
        },
        {
         "name": "UVIndex",
         "rawType": "float64",
         "type": "float"
        },
        {
         "name": "UVDose",
         "rawType": "float64",
         "type": "float"
        },
        {
         "name": "UVIndexHi",
         "rawType": "float64",
         "type": "float"
        },
        {
         "name": "HeatDD",
         "rawType": "float64",
         "type": "float"
        },
        {
         "name": "CoolDD",
         "rawType": "float64",
         "type": "float"
        },
        {
         "name": "TempIn",
         "rawType": "float64",
         "type": "float"
        },
        {
         "name": "HumIn",
         "rawType": "int64",
         "type": "integer"
        },
        {
         "name": "DewPtIn",
         "rawType": "float64",
         "type": "float"
        },
        {
         "name": "HeatIn",
         "rawType": "float64",
         "type": "float"
        },
        {
         "name": "ET",
         "rawType": "float64",
         "type": "float"
        },
        {
         "name": "WindSamp",
         "rawType": "int64",
         "type": "integer"
        },
        {
         "name": "WindTx",
         "rawType": "int64",
         "type": "integer"
        },
        {
         "name": "ISSRecept",
         "rawType": "float64",
         "type": "float"
        },
        {
         "name": "ArcInt",
         "rawType": "int64",
         "type": "integer"
        }
       ],
       "ref": "a62cb482-b8ed-48d8-a815-d7455f016c92",
       "rows": [
        [
         "0",
         "25-05-25",
         "0:30",
         "10.9",
         "11.1",
         "10.7",
         "73",
         "6.3",
         "0.4",
         "N",
         "0.8",
         "1.3",
         "N",
         "10.9",
         "10.7",
         "10.7",
         "8.9",
         "983.3",
         "0.0",
         "0.0",
         "0",
         "0.0",
         "0",
         "0.0",
         "0.0",
         "0.0",
         "0.154",
         "0.0",
         "21.9",
         "34",
         "5.3",
         "20.5",
         "0.0",
         "699",
         "1",
         "100.0",
         "30"
        ],
        [
         "1",
         "25-05-25",
         "1:00",
         "10.3",
         "10.7",
         "9.9",
         "77",
         "6.5",
         "0.0",
         "N",
         "0.0",
         "0.9",
         "N",
         "10.3",
         "10.2",
         "10.2",
         "8.4",
         "983.2",
         "0.0",
         "0.0",
         "0",
         "0.0",
         "0",
         "0.0",
         "0.0",
         "0.0",
         "0.167",
         "0.0",
         "21.8",
         "34",
         "5.3",
         "20.4",
         "0.03",
         "701",
         "1",
         "100.0",
         "30"
        ],
        [
         "2",
         "25-05-25",
         "1:30",
         "9.6",
         "9.9",
         "9.2",
         "80",
         "6.3",
         "0.0",
         null,
         "0.0",
         "0.0",
         null,
         "9.6",
         "9.5",
         "9.5",
         "7.7",
         "983.0",
         "0.0",
         "0.0",
         "0",
         "0.0",
         "0",
         "0.0",
         "0.0",
         "0.0",
         "0.183",
         "0.0",
         "21.7",
         "34",
         "5.2",
         "20.2",
         "0.0",
         "700",
         "1",
         "100.0",
         "30"
        ],
        [
         "3",
         "25-05-25",
         "2:00",
         "9.0",
         "9.2",
         "8.8",
         "84",
         "6.4",
         "0.0",
         "N",
         "0.0",
         "0.9",
         "N",
         "9.0",
         "9.0",
         "9.0",
         "7.2",
         "983.1",
         "0.0",
         "0.0",
         "0",
         "0.0",
         "0",
         "0.0",
         "0.0",
         "0.0",
         "0.194",
         "0.0",
         "21.7",
         "34",
         "5.1",
         "20.2",
         "0.03",
         "702",
         "1",
         "100.0",
         "30"
        ],
        [
         "4",
         "25-05-25",
         "2:30",
         "8.8",
         "8.9",
         "8.6",
         "85",
         "6.4",
         "0.0",
         null,
         "0.0",
         "0.0",
         null,
         "8.8",
         "8.8",
         "8.8",
         "7.0",
         "983.0",
         "0.0",
         "0.0",
         "0",
         "0.0",
         "0",
         "0.0",
         "0.0",
         "0.0",
         "0.199",
         "0.0",
         "21.6",
         "34",
         "5.1",
         "20.1",
         "0.0",
         "701",
         "1",
         "100.0",
         "30"
        ]
       ],
       "shape": {
        "columns": 36,
        "rows": 5
       }
      },
      "text/html": [
       "<div>\n",
       "<style scoped>\n",
       "    .dataframe tbody tr th:only-of-type {\n",
       "        vertical-align: middle;\n",
       "    }\n",
       "\n",
       "    .dataframe tbody tr th {\n",
       "        vertical-align: top;\n",
       "    }\n",
       "\n",
       "    .dataframe thead th {\n",
       "        text-align: right;\n",
       "    }\n",
       "</style>\n",
       "<table border=\"1\" class=\"dataframe\">\n",
       "  <thead>\n",
       "    <tr style=\"text-align: right;\">\n",
       "      <th></th>\n",
       "      <th>Date</th>\n",
       "      <th>Time</th>\n",
       "      <th>TempOut</th>\n",
       "      <th>TempHi</th>\n",
       "      <th>TempLow</th>\n",
       "      <th>HumOut</th>\n",
       "      <th>DewPt</th>\n",
       "      <th>WindSpeed</th>\n",
       "      <th>WindDir</th>\n",
       "      <th>WindRun</th>\n",
       "      <th>...</th>\n",
       "      <th>CoolDD</th>\n",
       "      <th>TempIn</th>\n",
       "      <th>HumIn</th>\n",
       "      <th>DewPtIn</th>\n",
       "      <th>HeatIn</th>\n",
       "      <th>ET</th>\n",
       "      <th>WindSamp</th>\n",
       "      <th>WindTx</th>\n",
       "      <th>ISSRecept</th>\n",
       "      <th>ArcInt</th>\n",
       "    </tr>\n",
       "  </thead>\n",
       "  <tbody>\n",
       "    <tr>\n",
       "      <th>0</th>\n",
       "      <td>25-05-25</td>\n",
       "      <td>0:30</td>\n",
       "      <td>10.9</td>\n",
       "      <td>11.1</td>\n",
       "      <td>10.7</td>\n",
       "      <td>73</td>\n",
       "      <td>6.3</td>\n",
       "      <td>0.4</td>\n",
       "      <td>N</td>\n",
       "      <td>0.8</td>\n",
       "      <td>...</td>\n",
       "      <td>0.0</td>\n",
       "      <td>21.9</td>\n",
       "      <td>34</td>\n",
       "      <td>5.3</td>\n",
       "      <td>20.5</td>\n",
       "      <td>0.00</td>\n",
       "      <td>699</td>\n",
       "      <td>1</td>\n",
       "      <td>100.0</td>\n",
       "      <td>30</td>\n",
       "    </tr>\n",
       "    <tr>\n",
       "      <th>1</th>\n",
       "      <td>25-05-25</td>\n",
       "      <td>1:00</td>\n",
       "      <td>10.3</td>\n",
       "      <td>10.7</td>\n",
       "      <td>9.9</td>\n",
       "      <td>77</td>\n",
       "      <td>6.5</td>\n",
       "      <td>0.0</td>\n",
       "      <td>N</td>\n",
       "      <td>0.0</td>\n",
       "      <td>...</td>\n",
       "      <td>0.0</td>\n",
       "      <td>21.8</td>\n",
       "      <td>34</td>\n",
       "      <td>5.3</td>\n",
       "      <td>20.4</td>\n",
       "      <td>0.03</td>\n",
       "      <td>701</td>\n",
       "      <td>1</td>\n",
       "      <td>100.0</td>\n",
       "      <td>30</td>\n",
       "    </tr>\n",
       "    <tr>\n",
       "      <th>2</th>\n",
       "      <td>25-05-25</td>\n",
       "      <td>1:30</td>\n",
       "      <td>9.6</td>\n",
       "      <td>9.9</td>\n",
       "      <td>9.2</td>\n",
       "      <td>80</td>\n",
       "      <td>6.3</td>\n",
       "      <td>0.0</td>\n",
       "      <td>NaN</td>\n",
       "      <td>0.0</td>\n",
       "      <td>...</td>\n",
       "      <td>0.0</td>\n",
       "      <td>21.7</td>\n",
       "      <td>34</td>\n",
       "      <td>5.2</td>\n",
       "      <td>20.2</td>\n",
       "      <td>0.00</td>\n",
       "      <td>700</td>\n",
       "      <td>1</td>\n",
       "      <td>100.0</td>\n",
       "      <td>30</td>\n",
       "    </tr>\n",
       "    <tr>\n",
       "      <th>3</th>\n",
       "      <td>25-05-25</td>\n",
       "      <td>2:00</td>\n",
       "      <td>9.0</td>\n",
       "      <td>9.2</td>\n",
       "      <td>8.8</td>\n",
       "      <td>84</td>\n",
       "      <td>6.4</td>\n",
       "      <td>0.0</td>\n",
       "      <td>N</td>\n",
       "      <td>0.0</td>\n",
       "      <td>...</td>\n",
       "      <td>0.0</td>\n",
       "      <td>21.7</td>\n",
       "      <td>34</td>\n",
       "      <td>5.1</td>\n",
       "      <td>20.2</td>\n",
       "      <td>0.03</td>\n",
       "      <td>702</td>\n",
       "      <td>1</td>\n",
       "      <td>100.0</td>\n",
       "      <td>30</td>\n",
       "    </tr>\n",
       "    <tr>\n",
       "      <th>4</th>\n",
       "      <td>25-05-25</td>\n",
       "      <td>2:30</td>\n",
       "      <td>8.8</td>\n",
       "      <td>8.9</td>\n",
       "      <td>8.6</td>\n",
       "      <td>85</td>\n",
       "      <td>6.4</td>\n",
       "      <td>0.0</td>\n",
       "      <td>NaN</td>\n",
       "      <td>0.0</td>\n",
       "      <td>...</td>\n",
       "      <td>0.0</td>\n",
       "      <td>21.6</td>\n",
       "      <td>34</td>\n",
       "      <td>5.1</td>\n",
       "      <td>20.1</td>\n",
       "      <td>0.00</td>\n",
       "      <td>701</td>\n",
       "      <td>1</td>\n",
       "      <td>100.0</td>\n",
       "      <td>30</td>\n",
       "    </tr>\n",
       "  </tbody>\n",
       "</table>\n",
       "<p>5 rows × 36 columns</p>\n",
       "</div>"
      ],
      "text/plain": [
       "       Date  Time  TempOut  TempHi  TempLow  HumOut  DewPt  WindSpeed WindDir  \\\n",
       "0  25-05-25  0:30     10.9    11.1     10.7      73    6.3        0.4       N   \n",
       "1  25-05-25  1:00     10.3    10.7      9.9      77    6.5        0.0       N   \n",
       "2  25-05-25  1:30      9.6     9.9      9.2      80    6.3        0.0     NaN   \n",
       "3  25-05-25  2:00      9.0     9.2      8.8      84    6.4        0.0       N   \n",
       "4  25-05-25  2:30      8.8     8.9      8.6      85    6.4        0.0     NaN   \n",
       "\n",
       "   WindRun  ...  CoolDD TempIn  HumIn  DewPtIn  HeatIn    ET  WindSamp  \\\n",
       "0      0.8  ...     0.0   21.9     34      5.3    20.5  0.00       699   \n",
       "1      0.0  ...     0.0   21.8     34      5.3    20.4  0.03       701   \n",
       "2      0.0  ...     0.0   21.7     34      5.2    20.2  0.00       700   \n",
       "3      0.0  ...     0.0   21.7     34      5.1    20.2  0.03       702   \n",
       "4      0.0  ...     0.0   21.6     34      5.1    20.1  0.00       701   \n",
       "\n",
       "   WindTx  ISSRecept  ArcInt  \n",
       "0       1      100.0      30  \n",
       "1       1      100.0      30  \n",
       "2       1      100.0      30  \n",
       "3       1      100.0      30  \n",
       "4       1      100.0      30  \n",
       "\n",
       "[5 rows x 36 columns]"
      ]
     },
     "execution_count": 7,
     "metadata": {},
     "output_type": "execute_result"
    }
   ],
   "source": [
    "df = pd.read_csv(first_file,sep=r'\\s+', names=columns, skiprows=3, na_values = ['---', '------'])\n",
    "df.head()"
   ]
  },
  {
   "cell_type": "markdown",
   "id": "fc4d2805",
   "metadata": {},
   "source": [
    "### Initial Data Visualization\n",
    "\n",
    "Creating a scatter plot of temperature vs humidity reveals:\n",
    "- **Data quality**: Are there obvious outliers or measurement errors?\n",
    "- **Correlation patterns**: Expected meteorological relationships\n",
    "- **Data density**: How much data do we have in this single file?\n",
    "\n",
    "This visualization serves as our baseline for comparison when we scale to multiple files."
   ]
  },
  {
   "cell_type": "code",
   "execution_count": 8,
   "id": "586459cb",
   "metadata": {},
   "outputs": [
    {
     "data": {
      "text/plain": [
       "<Axes: xlabel='TempOut', ylabel='HumOut'>"
      ]
     },
     "execution_count": 8,
     "metadata": {},
     "output_type": "execute_result"
    },
    {
     "data": {
      "image/png": "[encoded data removed]",
      "text/plain": [
       "<Figure size 640x480 with 1 Axes>"
      ]
     },
     "metadata": {},
     "output_type": "display_data"
    }
   ],
   "source": [
    "df.plot.scatter(x='TempOut',y='HumOut')"
   ]
  },
  {
   "cell_type": "markdown",
   "id": "98a355ff",
   "metadata": {},
   "source": [
    "## Scaling Challenges: Multi-File Processing with Pandas\n",
    "\n",
    "### The Traditional Approach and Its Limitations\n",
    "\n",
    "When datasets span multiple files, the traditional pandas approach involves:\n",
    "\n",
    "1. **Loop through files**: Iterate over file list sequentially  \n",
    "2. **Load each file**: Use `pd.read_csv()` for each individual file\n",
    "3. **Collect DataFrames**: Store results in a list\n",
    "4. **Concatenate all**: Use `pd.concat()` to merge all DataFrames\n",
    "\n",
    "### Performance and Memory Issues\n",
    "\n",
    "This approach faces several scaling problems:\n",
    "\n",
    "- **Memory accumulation**: All DataFrames held in memory simultaneously\n",
    "- **Sequential processing**: No parallelization across files\n",
    "- **Concatenation overhead**: Final merge can require 2x total dataset memory\n",
    "- **No lazy evaluation**: All data loaded regardless of subsequent operations\n",
    "\n",
    "**Real-world Impact**: For large datasets, this approach often fails with `MemoryError` or becomes prohibitively slow.\n",
    "\n",
    "### Processing All Weather Files"
   ]
  },
  {
   "cell_type": "code",
   "execution_count": 9,
   "id": "b4765af8",
   "metadata": {},
   "outputs": [
    {
     "data": {
      "application/vnd.microsoft.datawrangler.viewer.v0+json": {
       "columns": [
        {
         "name": "index",
         "rawType": "int64",
         "type": "integer"
        },
        {
         "name": "Date",
         "rawType": "object",
         "type": "string"
        },
        {
         "name": "Time",
         "rawType": "object",
         "type": "string"
        },
        {
         "name": "TempOut",
         "rawType": "float64",
         "type": "float"
        },
        {
         "name": "TempHi",
         "rawType": "float64",
         "type": "float"
        },
        {
         "name": "TempLow",
         "rawType": "float64",
         "type": "float"
        },
        {
         "name": "HumOut",
         "rawType": "float64",
         "type": "float"
        },
        {
         "name": "DewPt",
         "rawType": "float64",
         "type": "float"
        },
        {
         "name": "WindSpeed",
         "rawType": "float64",
         "type": "float"
        },
        {
         "name": "WindDir",
         "rawType": "object",
         "type": "string"
        },
        {
         "name": "WindRun",
         "rawType": "float64",
         "type": "float"
        },
        {
         "name": "WindSpeedHi",
         "rawType": "float64",
         "type": "float"
        },
        {
         "name": "WindDirHi",
         "rawType": "object",
         "type": "string"
        },
        {
         "name": "WindChill",
         "rawType": "float64",
         "type": "float"
        },
        {
         "name": "HeatIndex",
         "rawType": "float64",
         "type": "float"
        },
        {
         "name": "THWIndex",
         "rawType": "float64",
         "type": "float"
        },
        {
         "name": "THSWIndex",
         "rawType": "float64",
         "type": "float"
        },
        {
         "name": "Bar",
         "rawType": "float64",
         "type": "float"
        },
        {
         "name": "Rain",
         "rawType": "float64",
         "type": "float"
        },
        {
         "name": "RainRate",
         "rawType": "float64",
         "type": "float"
        },
        {
         "name": "SolarRad",
         "rawType": "float64",
         "type": "float"
        },
        {
         "name": "SolarEnergy",
         "rawType": "float64",
         "type": "float"
        },
        {
         "name": "SolarRadHi",
         "rawType": "float64",
         "type": "float"
        },
        {
         "name": "UVIndex",
         "rawType": "float64",
         "type": "float"
        },
        {
         "name": "UVDose",
         "rawType": "float64",
         "type": "float"
        },
        {
         "name": "UVIndexHi",
         "rawType": "float64",
         "type": "float"
        },
        {
         "name": "HeatDD",
         "rawType": "float64",
         "type": "float"
        },
        {
         "name": "CoolDD",
         "rawType": "float64",
         "type": "float"
        },
        {
         "name": "TempIn",
         "rawType": "float64",
         "type": "float"
        },
        {
         "name": "HumIn",
         "rawType": "float64",
         "type": "float"
        },
        {
         "name": "DewPtIn",
         "rawType": "float64",
         "type": "float"
        },
        {
         "name": "HeatIn",
         "rawType": "float64",
         "type": "float"
        },
        {
         "name": "ET",
         "rawType": "float64",
         "type": "float"
        },
        {
         "name": "WindSamp",
         "rawType": "int64",
         "type": "integer"
        },
        {
         "name": "WindTx",
         "rawType": "int64",
         "type": "integer"
        },
        {
         "name": "ISSRecept",
         "rawType": "float64",
         "type": "float"
        },
        {
         "name": "ArcInt",
         "rawType": "int64",
         "type": "integer"
        }
       ],
       "ref": "01e9d936-33db-4c69-82f7-79841e3d8d82",
       "rows": [
        [
         "120",
         "25-02-11",
         "12:30",
         "3.5",
         "3.6",
         "3.2",
         "53.0",
         "-5.2",
         "1.8",
         "N",
         "3.22",
         "4.5",
         "N",
         "1.9",
         "3.0",
         "1.4",
         "5.3",
         "995.1",
         "0.0",
         "0.0",
         "292.0",
         "12.56",
         "327.0",
         "0.8",
         "0.13",
         "0.8",
         "0.309",
         "0.0",
         "22.7",
         "26.0",
         "2.2",
         "21.3",
         "0.0",
         "687",
         "1",
         "100.0",
         "30"
        ],
        [
         "66",
         "25-06-09",
         "9:30",
         "13.3",
         "13.5",
         "13.1",
         "78.0",
         "9.5",
         "2.7",
         "N",
         "4.83",
         "6.7",
         "N",
         "12.6",
         "13.1",
         "12.4",
         "13.2",
         "987.6",
         "0.0",
         "0.0",
         "126.0",
         "5.42",
         "229.0",
         "0.4",
         "0.06",
         "0.9",
         "0.105",
         "0.0",
         "23.4",
         "43.0",
         "10.1",
         "22.9",
         "0.0",
         "699",
         "1",
         "100.0",
         "30"
        ],
        [
         "85",
         "25-05-05",
         "19:00",
         "9.1",
         "9.2",
         "8.9",
         "72.0",
         "4.3",
         "0.9",
         "N",
         "1.61",
         "3.6",
         "N",
         "9.1",
         "8.8",
         "8.8",
         "7.7",
         "980.7",
         "0.0",
         "0.0",
         "48.0",
         "2.06",
         "63.0",
         "0.0",
         "0.0",
         "0.0",
         "0.193",
         "0.0",
         "23.4",
         "32.0",
         "5.7",
         "22.4",
         "0.0",
         "702",
         "1",
         "100.0",
         "30"
        ],
        [
         "25",
         "25-06-08",
         "13:00",
         "16.8",
         "16.9",
         "16.7",
         "90.0",
         "15.2",
         "0.9",
         "N",
         "1.61",
         "3.1",
         "N",
         "16.8",
         "17.2",
         "17.2",
         "18.1",
         "979.7",
         "0.0",
         "0.0",
         "137.0",
         "5.89",
         "162.0",
         "0.7",
         "0.11",
         "0.8",
         "0.031",
         "0.0",
         "24.5",
         "47.0",
         "12.4",
         "24.3",
         "0.08",
         "703",
         "1",
         "100.0",
         "30"
        ],
        [
         "203",
         "25-08-14",
         "6:00",
         "18.7",
         "18.9",
         "18.6",
         "82.0",
         "15.6",
         "0.0",
         "N",
         "0.0",
         "1.3",
         "N",
         "18.7",
         "19.2",
         "19.2",
         "18.1",
         "986.0",
         "0.0",
         "0.0",
         "4.0",
         "0.17",
         "9.0",
         "0.0",
         "0.0",
         "0.0",
         "0.0",
         "0.008",
         "26.7",
         "40.0",
         "11.9",
         "25.9",
         "0.0",
         "702",
         "1",
         "100.0",
         "30"
        ],
        [
         "117",
         "25-09-01",
         "11:00",
         "21.9",
         "22.2",
         "21.7",
         "78.0",
         "17.9",
         "0.9",
         "N",
         "1.61",
         "2.7",
         "N",
         "21.9",
         "22.6",
         "22.6",
         "28.3",
         "978.6",
         "0.0",
         "0.0",
         "546.0",
         "23.48",
         "573.0",
         "1.5",
         "0.24",
         "1.6",
         "0.0",
         "0.074",
         "26.4",
         "43.0",
         "12.8",
         "25.9",
         "0.3",
         "698",
         "1",
         "100.0",
         "30"
        ],
        [
         "201",
         "25-04-10",
         "5:00",
         "2.4",
         "2.6",
         "1.9",
         "89.0",
         "0.8",
         "0.9",
         "N",
         "1.61",
         "2.7",
         "N",
         "2.1",
         "2.3",
         "2.0",
         "-0.1",
         "982.7",
         "0.0",
         "0.0",
         "0.0",
         "0.0",
         "0.0",
         "0.0",
         "0.0",
         "0.0",
         "0.332",
         "0.0",
         "21.0",
         "27.0",
         "1.3",
         "18.8",
         "0.0",
         "701",
         "1",
         "100.0",
         "30"
        ],
        [
         "42",
         "25-09-09",
         "4:00",
         "14.8",
         "14.8",
         "14.7",
         "95.0",
         "14.0",
         "0.0",
         "N",
         "0.0",
         "0.4",
         "N",
         "14.8",
         "15.1",
         "15.1",
         "13.8",
         "982.2",
         "0.0",
         "0.0",
         "0.0",
         "0.0",
         "0.0",
         "0.0",
         "0.0",
         "0.0",
         "0.074",
         "0.0",
         "20.3",
         "50.0",
         "9.5",
         "19.5",
         "0.0",
         "701",
         "1",
         "100.0",
         "30"
        ],
        [
         "189",
         "25-08-13",
         "23:00",
         "23.9",
         "24.2",
         "23.5",
         "63.0",
         "16.4",
         "0.4",
         "N",
         "0.8",
         "1.3",
         "N",
         "23.9",
         "24.2",
         "24.2",
         "23.1",
         "985.7",
         "0.0",
         "0.0",
         "0.0",
         "0.0",
         "0.0",
         "0.0",
         "0.0",
         "0.0",
         "0.0",
         "0.116",
         "27.8",
         "39.0",
         "12.6",
         "27.1",
         "0.05",
         "699",
         "1",
         "100.0",
         "30"
        ],
        [
         "221",
         "25-09-18",
         "15:00",
         "18.2",
         "18.3",
         "18.1",
         "73.0",
         "13.3",
         "0.9",
         "N",
         "1.61",
         "4.9",
         "N",
         "18.2",
         "18.2",
         "18.2",
         "20.4",
         "989.1",
         "0.0",
         "0.0",
         "211.0",
         "9.07",
         "232.0",
         "1.0",
         "0.16",
         "1.0",
         "0.002",
         "0.0",
         "24.8",
         "41.0",
         "10.7",
         "24.3",
         "0.15",
         "700",
         "1",
         "100.0",
         "30"
        ]
       ],
       "shape": {
        "columns": 36,
        "rows": 10
       }
      },
      "text/html": [
       "<div>\n",
       "<style scoped>\n",
       "    .dataframe tbody tr th:only-of-type {\n",
       "        vertical-align: middle;\n",
       "    }\n",
       "\n",
       "    .dataframe tbody tr th {\n",
       "        vertical-align: top;\n",
       "    }\n",
       "\n",
       "    .dataframe thead th {\n",
       "        text-align: right;\n",
       "    }\n",
       "</style>\n",
       "<table border=\"1\" class=\"dataframe\">\n",
       "  <thead>\n",
       "    <tr style=\"text-align: right;\">\n",
       "      <th></th>\n",
       "      <th>Date</th>\n",
       "      <th>Time</th>\n",
       "      <th>TempOut</th>\n",
       "      <th>TempHi</th>\n",
       "      <th>TempLow</th>\n",
       "      <th>HumOut</th>\n",
       "      <th>DewPt</th>\n",
       "      <th>WindSpeed</th>\n",
       "      <th>WindDir</th>\n",
       "      <th>WindRun</th>\n",
       "      <th>...</th>\n",
       "      <th>CoolDD</th>\n",
       "      <th>TempIn</th>\n",
       "      <th>HumIn</th>\n",
       "      <th>DewPtIn</th>\n",
       "      <th>HeatIn</th>\n",
       "      <th>ET</th>\n",
       "      <th>WindSamp</th>\n",
       "      <th>WindTx</th>\n",
       "      <th>ISSRecept</th>\n",
       "      <th>ArcInt</th>\n",
       "    </tr>\n",
       "  </thead>\n",
       "  <tbody>\n",
       "    <tr>\n",
       "      <th>120</th>\n",
       "      <td>25-02-11</td>\n",
       "      <td>12:30</td>\n",
       "      <td>3.5</td>\n",
       "      <td>3.6</td>\n",
       "      <td>3.2</td>\n",
       "      <td>53.0</td>\n",
       "      <td>-5.2</td>\n",
       "      <td>1.8</td>\n",
       "      <td>N</td>\n",
       "      <td>3.22</td>\n",
       "      <td>...</td>\n",
       "      <td>0.000</td>\n",
       "      <td>22.7</td>\n",
       "      <td>26.0</td>\n",
       "      <td>2.2</td>\n",
       "      <td>21.3</td>\n",
       "      <td>0.00</td>\n",
       "      <td>687</td>\n",
       "      <td>1</td>\n",
       "      <td>100.0</td>\n",
       "      <td>30</td>\n",
       "    </tr>\n",
       "    <tr>\n",
       "      <th>66</th>\n",
       "      <td>25-06-09</td>\n",
       "      <td>9:30</td>\n",
       "      <td>13.3</td>\n",
       "      <td>13.5</td>\n",
       "      <td>13.1</td>\n",
       "      <td>78.0</td>\n",
       "      <td>9.5</td>\n",
       "      <td>2.7</td>\n",
       "      <td>N</td>\n",
       "      <td>4.83</td>\n",
       "      <td>...</td>\n",
       "      <td>0.000</td>\n",
       "      <td>23.4</td>\n",
       "      <td>43.0</td>\n",
       "      <td>10.1</td>\n",
       "      <td>22.9</td>\n",
       "      <td>0.00</td>\n",
       "      <td>699</td>\n",
       "      <td>1</td>\n",
       "      <td>100.0</td>\n",
       "      <td>30</td>\n",
       "    </tr>\n",
       "    <tr>\n",
       "      <th>85</th>\n",
       "      <td>25-05-05</td>\n",
       "      <td>19:00</td>\n",
       "      <td>9.1</td>\n",
       "      <td>9.2</td>\n",
       "      <td>8.9</td>\n",
       "      <td>72.0</td>\n",
       "      <td>4.3</td>\n",
       "      <td>0.9</td>\n",
       "      <td>N</td>\n",
       "      <td>1.61</td>\n",
       "      <td>...</td>\n",
       "      <td>0.000</td>\n",
       "      <td>23.4</td>\n",
       "      <td>32.0</td>\n",
       "      <td>5.7</td>\n",
       "      <td>22.4</td>\n",
       "      <td>0.00</td>\n",
       "      <td>702</td>\n",
       "      <td>1</td>\n",
       "      <td>100.0</td>\n",
       "      <td>30</td>\n",
       "    </tr>\n",
       "    <tr>\n",
       "      <th>25</th>\n",
       "      <td>25-06-08</td>\n",
       "      <td>13:00</td>\n",
       "      <td>16.8</td>\n",
       "      <td>16.9</td>\n",
       "      <td>16.7</td>\n",
       "      <td>90.0</td>\n",
       "      <td>15.2</td>\n",
       "      <td>0.9</td>\n",
       "      <td>N</td>\n",
       "      <td>1.61</td>\n",
       "      <td>...</td>\n",
       "      <td>0.000</td>\n",
       "      <td>24.5</td>\n",
       "      <td>47.0</td>\n",
       "      <td>12.4</td>\n",
       "      <td>24.3</td>\n",
       "      <td>0.08</td>\n",
       "      <td>703</td>\n",
       "      <td>1</td>\n",
       "      <td>100.0</td>\n",
       "      <td>30</td>\n",
       "    </tr>\n",
       "    <tr>\n",
       "      <th>203</th>\n",
       "      <td>25-08-14</td>\n",
       "      <td>6:00</td>\n",
       "      <td>18.7</td>\n",
       "      <td>18.9</td>\n",
       "      <td>18.6</td>\n",
       "      <td>82.0</td>\n",
       "      <td>15.6</td>\n",
       "      <td>0.0</td>\n",
       "      <td>N</td>\n",
       "      <td>0.00</td>\n",
       "      <td>...</td>\n",
       "      <td>0.008</td>\n",
       "      <td>26.7</td>\n",
       "      <td>40.0</td>\n",
       "      <td>11.9</td>\n",
       "      <td>25.9</td>\n",
       "      <td>0.00</td>\n",
       "      <td>702</td>\n",
       "      <td>1</td>\n",
       "      <td>100.0</td>\n",
       "      <td>30</td>\n",
       "    </tr>\n",
       "    <tr>\n",
       "      <th>117</th>\n",
       "      <td>25-09-01</td>\n",
       "      <td>11:00</td>\n",
       "      <td>21.9</td>\n",
       "      <td>22.2</td>\n",
       "      <td>21.7</td>\n",
       "      <td>78.0</td>\n",
       "      <td>17.9</td>\n",
       "      <td>0.9</td>\n",
       "      <td>N</td>\n",
       "      <td>1.61</td>\n",
       "      <td>...</td>\n",
       "      <td>0.074</td>\n",
       "      <td>26.4</td>\n",
       "      <td>43.0</td>\n",
       "      <td>12.8</td>\n",
       "      <td>25.9</td>\n",
       "      <td>0.30</td>\n",
       "      <td>698</td>\n",
       "      <td>1</td>\n",
       "      <td>100.0</td>\n",
       "      <td>30</td>\n",
       "    </tr>\n",
       "    <tr>\n",
       "      <th>201</th>\n",
       "      <td>25-04-10</td>\n",
       "      <td>5:00</td>\n",
       "      <td>2.4</td>\n",
       "      <td>2.6</td>\n",
       "      <td>1.9</td>\n",
       "      <td>89.0</td>\n",
       "      <td>0.8</td>\n",
       "      <td>0.9</td>\n",
       "      <td>N</td>\n",
       "      <td>1.61</td>\n",
       "      <td>...</td>\n",
       "      <td>0.000</td>\n",
       "      <td>21.0</td>\n",
       "      <td>27.0</td>\n",
       "      <td>1.3</td>\n",
       "      <td>18.8</td>\n",
       "      <td>0.00</td>\n",
       "      <td>701</td>\n",
       "      <td>1</td>\n",
       "      <td>100.0</td>\n",
       "      <td>30</td>\n",
       "    </tr>\n",
       "    <tr>\n",
       "      <th>42</th>\n",
       "      <td>25-09-09</td>\n",
       "      <td>4:00</td>\n",
       "      <td>14.8</td>\n",
       "      <td>14.8</td>\n",
       "      <td>14.7</td>\n",
       "      <td>95.0</td>\n",
       "      <td>14.0</td>\n",
       "      <td>0.0</td>\n",
       "      <td>N</td>\n",
       "      <td>0.00</td>\n",
       "      <td>...</td>\n",
       "      <td>0.000</td>\n",
       "      <td>20.3</td>\n",
       "      <td>50.0</td>\n",
       "      <td>9.5</td>\n",
       "      <td>19.5</td>\n",
       "      <td>0.00</td>\n",
       "      <td>701</td>\n",
       "      <td>1</td>\n",
       "      <td>100.0</td>\n",
       "      <td>30</td>\n",
       "    </tr>\n",
       "    <tr>\n",
       "      <th>189</th>\n",
       "      <td>25-08-13</td>\n",
       "      <td>23:00</td>\n",
       "      <td>23.9</td>\n",
       "      <td>24.2</td>\n",
       "      <td>23.5</td>\n",
       "      <td>63.0</td>\n",
       "      <td>16.4</td>\n",
       "      <td>0.4</td>\n",
       "      <td>N</td>\n",
       "      <td>0.80</td>\n",
       "      <td>...</td>\n",
       "      <td>0.116</td>\n",
       "      <td>27.8</td>\n",
       "      <td>39.0</td>\n",
       "      <td>12.6</td>\n",
       "      <td>27.1</td>\n",
       "      <td>0.05</td>\n",
       "      <td>699</td>\n",
       "      <td>1</td>\n",
       "      <td>100.0</td>\n",
       "      <td>30</td>\n",
       "    </tr>\n",
       "    <tr>\n",
       "      <th>221</th>\n",
       "      <td>25-09-18</td>\n",
       "      <td>15:00</td>\n",
       "      <td>18.2</td>\n",
       "      <td>18.3</td>\n",
       "      <td>18.1</td>\n",
       "      <td>73.0</td>\n",
       "      <td>13.3</td>\n",
       "      <td>0.9</td>\n",
       "      <td>N</td>\n",
       "      <td>1.61</td>\n",
       "      <td>...</td>\n",
       "      <td>0.000</td>\n",
       "      <td>24.8</td>\n",
       "      <td>41.0</td>\n",
       "      <td>10.7</td>\n",
       "      <td>24.3</td>\n",
       "      <td>0.15</td>\n",
       "      <td>700</td>\n",
       "      <td>1</td>\n",
       "      <td>100.0</td>\n",
       "      <td>30</td>\n",
       "    </tr>\n",
       "  </tbody>\n",
       "</table>\n",
       "<p>10 rows × 36 columns</p>\n",
       "</div>"
      ],
      "text/plain": [
       "         Date   Time  TempOut  TempHi  TempLow  HumOut  DewPt  WindSpeed  \\\n",
       "120  25-02-11  12:30      3.5     3.6      3.2    53.0   -5.2        1.8   \n",
       "66   25-06-09   9:30     13.3    13.5     13.1    78.0    9.5        2.7   \n",
       "85   25-05-05  19:00      9.1     9.2      8.9    72.0    4.3        0.9   \n",
       "25   25-06-08  13:00     16.8    16.9     16.7    90.0   15.2        0.9   \n",
       "203  25-08-14   6:00     18.7    18.9     18.6    82.0   15.6        0.0   \n",
       "117  25-09-01  11:00     21.9    22.2     21.7    78.0   17.9        0.9   \n",
       "201  25-04-10   5:00      2.4     2.6      1.9    89.0    0.8        0.9   \n",
       "42   25-09-09   4:00     14.8    14.8     14.7    95.0   14.0        0.0   \n",
       "189  25-08-13  23:00     23.9    24.2     23.5    63.0   16.4        0.4   \n",
       "221  25-09-18  15:00     18.2    18.3     18.1    73.0   13.3        0.9   \n",
       "\n",
       "    WindDir  WindRun  ...  CoolDD TempIn  HumIn  DewPtIn  HeatIn    ET  \\\n",
       "120       N     3.22  ...   0.000   22.7   26.0      2.2    21.3  0.00   \n",
       "66        N     4.83  ...   0.000   23.4   43.0     10.1    22.9  0.00   \n",
       "85        N     1.61  ...   0.000   23.4   32.0      5.7    22.4  0.00   \n",
       "25        N     1.61  ...   0.000   24.5   47.0     12.4    24.3  0.08   \n",
       "203       N     0.00  ...   0.008   26.7   40.0     11.9    25.9  0.00   \n",
       "117       N     1.61  ...   0.074   26.4   43.0     12.8    25.9  0.30   \n",
       "201       N     1.61  ...   0.000   21.0   27.0      1.3    18.8  0.00   \n",
       "42        N     0.00  ...   0.000   20.3   50.0      9.5    19.5  0.00   \n",
       "189       N     0.80  ...   0.116   27.8   39.0     12.6    27.1  0.05   \n",
       "221       N     1.61  ...   0.000   24.8   41.0     10.7    24.3  0.15   \n",
       "\n",
       "     WindSamp  WindTx  ISSRecept  ArcInt  \n",
       "120       687       1      100.0      30  \n",
       "66        699       1      100.0      30  \n",
       "85        702       1      100.0      30  \n",
       "25        703       1      100.0      30  \n",
       "203       702       1      100.0      30  \n",
       "117       698       1      100.0      30  \n",
       "201       701       1      100.0      30  \n",
       "42        701       1      100.0      30  \n",
       "189       699       1      100.0      30  \n",
       "221       700       1      100.0      30  \n",
       "\n",
       "[10 rows x 36 columns]"
      ]
     },
     "execution_count": 9,
     "metadata": {},
     "output_type": "execute_result"
    }
   ],
   "source": [
    "df_list = []\n",
    "for file_path in data_dir.glob(\"*.txt\"):\n",
    "    df_tmp = pd.read_csv(file_path,sep=r'\\s+', names=columns, skiprows=3, na_values = ['---', '------'])\n",
    "    df_list.append(df_tmp)\n",
    "df_all = pd.concat(df_list)\n",
    "df_all.sample(10)"
   ]
  },
  {
   "cell_type": "markdown",
   "id": "d1a239bc",
   "metadata": {},
   "source": [
    "### Data Type Analysis for Optimization\n",
    "\n",
    "Understanding data types becomes critical when scaling:\n",
    "- **Memory usage**: `object` types consume more memory than optimized types\n",
    "- **Processing speed**: Numerical operations faster on native types vs objects  \n",
    "- **Storage efficiency**: Type optimization crucial for I/O performance\n",
    "\n",
    "**HPDA Strategy**: Analyze data types on small samples, then optimize for full-scale processing."
   ]
  },
  {
   "cell_type": "code",
   "execution_count": 10,
   "id": "16e93800",
   "metadata": {},
   "outputs": [
    {
     "data": {
      "application/vnd.microsoft.datawrangler.viewer.v0+json": {
       "columns": [
        {
         "name": "index",
         "rawType": "object",
         "type": "string"
        },
        {
         "name": "0",
         "rawType": "object",
         "type": "unknown"
        }
       ],
       "ref": "11bae439-5637-4f8e-bad0-79a43f354c66",
       "rows": [
        [
         "Date",
         "object"
        ],
        [
         "Time",
         "object"
        ],
        [
         "TempOut",
         "float64"
        ],
        [
         "TempHi",
         "float64"
        ],
        [
         "TempLow",
         "float64"
        ],
        [
         "HumOut",
         "float64"
        ],
        [
         "DewPt",
         "float64"
        ],
        [
         "WindSpeed",
         "float64"
        ],
        [
         "WindDir",
         "object"
        ],
        [
         "WindRun",
         "float64"
        ],
        [
         "WindSpeedHi",
         "float64"
        ],
        [
         "WindDirHi",
         "object"
        ],
        [
         "WindChill",
         "float64"
        ],
        [
         "HeatIndex",
         "float64"
        ],
        [
         "THWIndex",
         "float64"
        ],
        [
         "THSWIndex",
         "float64"
        ],
        [
         "Bar",
         "float64"
        ],
        [
         "Rain",
         "float64"
        ],
        [
         "RainRate",
         "float64"
        ],
        [
         "SolarRad",
         "float64"
        ],
        [
         "SolarEnergy",
         "float64"
        ],
        [
         "SolarRadHi",
         "float64"
        ],
        [
         "UVIndex",
         "float64"
        ],
        [
         "UVDose",
         "float64"
        ],
        [
         "UVIndexHi",
         "float64"
        ],
        [
         "HeatDD",
         "float64"
        ],
        [
         "CoolDD",
         "float64"
        ],
        [
         "TempIn",
         "float64"
        ],
        [
         "HumIn",
         "float64"
        ],
        [
         "DewPtIn",
         "float64"
        ],
        [
         "HeatIn",
         "float64"
        ],
        [
         "ET",
         "float64"
        ],
        [
         "WindSamp",
         "int64"
        ],
        [
         "WindTx",
         "int64"
        ],
        [
         "ISSRecept",
         "float64"
        ],
        [
         "ArcInt",
         "int64"
        ]
       ],
       "shape": {
        "columns": 1,
        "rows": 36
       }
      },
      "text/plain": [
       "Date            object\n",
       "Time            object\n",
       "TempOut        float64\n",
       "TempHi         float64\n",
       "TempLow        float64\n",
       "HumOut         float64\n",
       "DewPt          float64\n",
       "WindSpeed      float64\n",
       "WindDir         object\n",
       "WindRun        float64\n",
       "WindSpeedHi    float64\n",
       "WindDirHi       object\n",
       "WindChill      float64\n",
       "HeatIndex      float64\n",
       "THWIndex       float64\n",
       "THSWIndex      float64\n",
       "Bar            float64\n",
       "Rain           float64\n",
       "RainRate       float64\n",
       "SolarRad       float64\n",
       "SolarEnergy    float64\n",
       "SolarRadHi     float64\n",
       "UVIndex        float64\n",
       "UVDose         float64\n",
       "UVIndexHi      float64\n",
       "HeatDD         float64\n",
       "CoolDD         float64\n",
       "TempIn         float64\n",
       "HumIn          float64\n",
       "DewPtIn        float64\n",
       "HeatIn         float64\n",
       "ET             float64\n",
       "WindSamp         int64\n",
       "WindTx           int64\n",
       "ISSRecept      float64\n",
       "ArcInt           int64\n",
       "dtype: object"
      ]
     },
     "execution_count": 10,
     "metadata": {},
     "output_type": "execute_result"
    }
   ],
   "source": [
    "df_all.dtypes"
   ]
  },
  {
   "cell_type": "markdown",
   "id": "1beeea41",
   "metadata": {},
   "source": [
    "### Visualization with Larger Dataset\n",
    "\n",
    "Notice the increased point density and clearer patterns with more data:\n",
    "- **Statistical power**: More data points reveal clearer relationships  \n",
    "- **Seasonal patterns**: Multiple months show temperature/humidity cycles\n",
    "- **Outlier identification**: Unusual measurements become visible\n",
    "\n",
    "**Performance Note**: The `s=1` parameter reduces marker size, improving rendering performance with large datasets."
   ]
  },
  {
   "cell_type": "code",
   "execution_count": 11,
   "id": "737d2fd1",
   "metadata": {},
   "outputs": [
    {
     "data": {
      "text/plain": [
       "<Axes: xlabel='TempOut', ylabel='HumOut'>"
      ]
     },
     "execution_count": 11,
     "metadata": {},
     "output_type": "execute_result"
    },
    {
     "data": {
      "image/png": "[encoded data removed]",
      "text/plain": [
       "<Figure size 640x480 with 1 Axes>"
      ]
     },
     "metadata": {},
     "output_type": "display_data"
    }
   ],
   "source": [
    "df_all.plot.scatter(x='TempOut',y='HumOut', s=1)"
   ]
  },
  {
   "cell_type": "code",
   "execution_count": 12,
   "id": "14b2a1d4",
   "metadata": {},
   "outputs": [],
   "source": [
    "df_dask = dask.dataframe.read_csv(\n",
    "    data_dir/\"*.txt\", sep=r'\\s+', names=columns, skiprows=3, na_values=['---', '------'], assume_missing=True\n",
    ")\n",
    "\n",
    "# Fill missing integer columns with -1 and cast to int after loading\n",
    "for col in ['HumIn', 'HumOut', 'SolarRad', 'SolarRadHi']:\n",
    "   df_dask[col] = df_dask[col].fillna(-1).astype('int64')"
   ]
  },
  {
   "cell_type": "markdown",
   "id": "479a0aa8",
   "metadata": {},
   "source": [
    "## Dask DataFrames - Parallel Computing for Large Datasets\n",
    "\n",
    "### The Dask Advantage: Lazy Evaluation and Parallel Processing\n",
    "\n",
    "Dask features:\n",
    "\n",
    "1. **Lazy evaluation**: Operations build computation graphs without immediate execution\n",
    "2. **Automatic partitioning**: Files processed in parallel across available cores\n",
    "3. **Memory efficiency**: Only required partitions loaded into memory\n",
    "4. **Familiar API**: Same pandas operations with distributed execution\n",
    "\n",
    "### Key Dask Concepts\n",
    "\n",
    "- **Task Graph**: Dask builds a graph of operations before execution\n",
    "- **Partitions**: Data split across multiple processing units\n",
    "- **Workers**: Parallel processes executing computations\n",
    "- **Scheduler**: Coordinates task execution and memory management\n",
    "\n",
    "### Loading Multiple Files with Dask\n",
    "\n",
    "The `read_csv()` with wildcard pattern `*.txt` automatically:\n",
    "- **Discovers all matching files** in parallel\n",
    "- **Creates partitioned DataFrame** with one partition per file (or optimized chunks)\n",
    "- **Maintains lazy evaluation** - no data loaded until `.compute()` called\n",
    "- **Handles schema inference** across all files"
   ]
  },
  {
   "cell_type": "markdown",
   "id": "768d7fbb",
   "metadata": {},
   "source": [
    "### Dask Operations: Lazy Evaluation in Action\n",
    "\n",
    "This operation demonstrates Dask's lazy evaluation:\n",
    "\n",
    "1. **`.unique()`**: Creates task to find unique values in HumOut column\n",
    "2. **`.min()`**: Adds task to find minimum of unique values  \n",
    "3. **`.compute()`**: **Only now** does Dask execute the computation graph\n",
    "\n",
    "**Key Advantage**: Complex operation chains are optimized before execution, eliminating intermediate results and optimizing memory usage.\n",
    "\n",
    "**Performance Comparison**: This lazy approach can be 10-100x more memory efficient than equivalent pandas operations on large datasets."
   ]
  },
  {
   "cell_type": "code",
   "execution_count": 13,
   "id": "3f70567b",
   "metadata": {},
   "outputs": [
    {
     "data": {
      "text/plain": [
       "np.float64(-1.0)"
      ]
     },
     "execution_count": 13,
     "metadata": {},
     "output_type": "execute_result"
    }
   ],
   "source": [
    "df_dask.HumOut.unique().min().compute()"
   ]
  },
  {
   "cell_type": "markdown",
   "id": "f2a85cba",
   "metadata": {},
   "source": [
    "### Converting Dask to Pandas for Visualization\n",
    "\n",
    "The `.compute()` method triggers execution and returns a pandas DataFrame:\n",
    "\n",
    "**When to use `.compute()`:**\n",
    "- **Final results**: When you need actual data (plotting, final analysis)\n",
    "- **Small results**: When result fits comfortably in memory\n",
    "- **Interactive exploration**: For immediate feedback\n",
    "\n",
    "**When to avoid `.compute()`:**\n",
    "- **Large intermediate results**: Keep computation lazy as long as possible\n",
    "- **Chained operations**: Let Dask optimize the entire pipeline\n",
    "- **Exploratory analysis**: Use Dask's lazy operations for initial filtering\n",
    "\n",
    "**Memory Management**: Always ensure `.compute()` results fit in available memory!"
   ]
  },
  {
   "cell_type": "code",
   "execution_count": 14,
   "id": "dc0258fd",
   "metadata": {},
   "outputs": [
    {
     "data": {
      "text/plain": [
       "<Axes: xlabel='TempOut', ylabel='HumOut'>"
      ]
     },
     "execution_count": 14,
     "metadata": {},
     "output_type": "execute_result"
    },
    {
     "data": {
      "image/png": "[encoded data removed]",
      "text/plain": [
       "<Figure size 640x480 with 1 Axes>"
      ]
     },
     "metadata": {},
     "output_type": "display_data"
    }
   ],
   "source": [
    "df_dask.compute().plot.scatter(x='TempOut',y='HumOut', s=1)"
   ]
  },
  {
   "cell_type": "markdown",
   "id": "bfe21dd5",
   "metadata": {},
   "source": [
    "## High-Performance Data Storage Strategies\n",
    "\n",
    "### HDF5: The Gold Standard for Scientific Data\n",
    "\n",
    "HDF5 (Hierarchical Data Format 5) is optimal for HPDA workflows because:\n",
    "\n",
    "- **Binary format**: Much faster I/O than text-based formats (CSV, JSON)\n",
    "- **Hierarchical structure**: Organize related datasets in single file\n",
    "- **Metadata support**: Store data descriptions, units\n",
    "- **Cross-platform**: Same format works on Windows, Linux, macOS\n",
    "- **Chunking**: Optimized for partial data access patterns\n",
    "- **Compression**: Built-in compression algorithms\n",
    "\n",
    "### Storage Comparison: Uncompressed HDF5\n",
    "\n",
    "Let's compare storage efficiency with our baseline approach:"
   ]
  },
  {
   "cell_type": "code",
   "execution_count": 15,
   "id": "3b939840",
   "metadata": {},
   "outputs": [
    {
     "name": "stdout",
     "output_type": "stream",
     "text": [
      "Size of the created file: 4.01 MB\n"
     ]
    }
   ],
   "source": [
    "dask_out_path = data_dir/\"meteo_dask.h5\"\n",
    "df_dask.to_hdf(dask_out_path, key='df', mode='w');\n",
    "\n",
    "# print size of the created file\n",
    "print(f\"Size of the created file: {dask_out_path.stat().st_size / (1024**2):.2f} MB\")"
   ]
  },
  {
   "cell_type": "markdown",
   "id": "471021e7",
   "metadata": {},
   "source": [
    "### Storage Optimization: Compression Strategies\n",
    "\n",
    "The `complevel=5` parameter applies medium-strength compression:\n",
    "\n",
    "**Compression Levels (0-9):**\n",
    "- **Level 0**: No compression (fastest write/read)\n",
    "- **Level 1-3**: Light compression (good balance for frequent access)\n",
    "- **Level 5**: Medium compression (optimal for most HPDA workflows)  \n",
    "- **Level 9**: Maximum compression (best for archival storage)\n",
    "\n",
    "**Trade-offs:**\n",
    "- **Higher compression**: Smaller file size, slower read/write\n",
    "- **Lower compression**: Larger file size, faster read/write\n",
    "\n",
    "**HPDA Rule of Thumb**: Use level 5 for working datasets, level 9 for long-term storage."
   ]
  },
  {
   "cell_type": "code",
   "execution_count": 16,
   "id": "0acbce2d",
   "metadata": {},
   "outputs": [
    {
     "name": "stdout",
     "output_type": "stream",
     "text": [
      "Size of the created file: 0.76 MB\n"
     ]
    }
   ],
   "source": [
    "df_dask.to_hdf(dask_out_path, key='df', mode='w', complevel=5);\n",
    "print(f\"Size of the created file: {dask_out_path.stat().st_size / (1024**2):.2f} MB\")"
   ]
  },
  {
   "cell_type": "markdown",
   "id": "a2eea5a1",
   "metadata": {},
   "source": [
    "## Advanced Challenges\n",
    "\n",
    "### 🚀 **Challenge 1: Historical Data Extension**\n",
    "\n",
    "**Objective**: Extend the analysis to include data from 2006 to present day.\n",
    "\n",
    "**Technical Considerations**:\n",
    "- **Data volume**: 19+ years of hourly data ≈ millions of records\n",
    "- **Schema evolution**: Column names/formats may have changed over time\n",
    "- **Missing data patterns**: Different instruments, maintenance periods\n",
    "\n",
    "**Implementation Strategy**:\n",
    "```python\n",
    "# TODO: Extend data range\n",
    "# base_urls = [\n",
    "#     \"https://meteo.gig.eu/archiwum/2006/\",\n",
    "#     \"https://meteo.gig.eu/archiwum/2007/\",\n",
    "#     # ... continue through 2025\n",
    "# ]\n",
    "```\n",
    "\n",
    "**Learning Objectives**:\n",
    "- Experience real-world data heterogeneity\n",
    "- Practice robust web scraping patterns\n",
    "- Understand temporal data partitioning strategies\n",
    "- Learn chunk-wise processing techniques"
   ]
  },
  {
   "cell_type": "markdown",
   "id": "9576eba1",
   "metadata": {},
   "source": [
    "### 🧮 **Challenge 2: Data Type Optimization**\n",
    "\n",
    "**Objective**: Optimize memory usage through intelligent data type selection.\n",
    "\n",
    "**Current Issues**:\n",
    "- Many columns stored as `object` type (memory inefficient)\n",
    "- Date/Time columns need proper temporal types\n",
    "- Categorical variables (WindDir) should use `category` dtype\n",
    "- Some integer columns could use smaller bit widths\n",
    "\n",
    "**Optimization Strategies**:\n",
    "\n",
    "1. **Categorical Types**: Convert wind direction, weather conditions\n",
    "```python\n",
    "# TODO: Implement categorical optimization\n",
    "# df_dask['WindDir'] = df_dask['WindDir'].astype('category')\n",
    "```\n",
    "\n",
    "2. **Temporal Types**: Proper datetime handling\n",
    "```python\n",
    "# TODO: Implement datetime parsing\n",
    "# df_dask['DateTime'] = dd.to_datetime(df_dask['Date'] + ' ' + df_dask['Time'])\n",
    "```\n",
    "\n",
    "3. **Numerical Optimization**: Use appropriate bit widths\n",
    "```python\n",
    "# TODO: Optimize integer types\n",
    "# df_dask['HumOut'] = df_dask['HumOut'].astype('int8')  # 0-100 range\n",
    "```\n",
    "\n",
    "**Expected Results**:\n",
    "- 30-50% memory reduction\n",
    "- Faster categorical operations\n",
    "- Improved temporal analysis capabilities\n",
    "- Better compression ratios in storage\n",
    "\n",
    "**Performance Measurement**:\n",
    "Compare memory usage, file sizes, and operation speeds before/after optimization.\n",
    "\n",
    "### 🎯 **Bonus Challenge: Advanced Analytics**\n",
    "\n",
    "**Time Series Analysis**: Calculate rolling averages, seasonal decomposition\n",
    "**Correlation Studies**: Multi-variable relationships across temporal patterns\n",
    "**Anomaly Detection**: Identify unusual weather patterns or sensor failures\n",
    "**Predictive Modeling**: Use historical data to forecast future conditions\n",
    "\n",
    "### 📊 **Key Takeaways**\n",
    "\n",
    "1. **Progressive Scaling**: Start with pandas, migrate to Dask when needed\n",
    "2. **Lazy Evaluation**: Build computation graphs before execution\n",
    "3. **Storage Strategy**: Choose formats and compression levels strategically  \n",
    "4. **Data Types**: Optimize memory through appropriate type selection\n",
    "5. **Partitioning**: Design data organization for parallel access patterns"
   ]
  },
  {
   "cell_type": "markdown",
   "id": "7e394111",
   "metadata": {},
   "source": []
  }
 ],
 "metadata": {
  "kernelspec": {
   "display_name": "venv (3.12.3)",
   "language": "python",
   "name": "python3"
  },
  "language_info": {
   "codemirror_mode": {
    "name": "ipython",
    "version": 3
   },
   "file_extension": ".py",
   "mimetype": "text/x-python",
   "name": "python",
   "nbconvert_exporter": "python",
   "pygments_lexer": "ipython3",
   "version": "3.12.3"
  }
 },
 "nbformat": 4,
 "nbformat_minor": 5
}
