{
 "cells": [
  {
   "cell_type": "markdown",
   "id": "3725d4c4",
   "metadata": {},
   "source": [
    "# Pandas\n",
    "\n",
    "https://pandas.pydata.org/\n",
    "\n",
    "## Statistical Data Processing and Vectorized Operations\n",
    "\n",
    "In this notebook, we'll explore:\n",
    "\n",
    "- **Statistical Data Generation**: Creating realistic datasets with controlled statistical properties\n",
    "- **DataFrame Operations**: Efficient data structures for heterogeneous data processing\n",
    "- **Vectorized Computing**: Leveraging pandas' optimized operations for maximum performance\n",
    "- **Memory-Efficient Workflows**: Best practices for handling large datasets\n",
    "- **Visualization Integration**: Built-in plotting capabilities for rapid data exploration\n",
    "\n",
    "### Why Pandas for High Performance Data Analysis?\n",
    "\n",
    "Pandas excels in HPDA scenarios because it:\n",
    "\n",
    "1. **Combines NumPy speed with data convenience** - vectorized operations on structured data\n",
    "2. **Handles mixed data types efficiently** - numerical, categorical, temporal data in one structure\n",
    "3. **Provides optimized I/O operations** - reading/writing large datasets from various formats\n",
    "4. **Integrates seamlessly with visualization** - built-in plotting reduces data movement overhead\n",
    "5. **Offers memory-efficient operations** - lazy evaluation and chunking capabilities\n",
    "\n",
    "### Learning Objectives\n",
    "\n",
    "By the end of this tutorial, you'll understand:\n",
    "- How to generate and manipulate large statistical datasets efficiently\n",
    "- When pandas operations are vectorized vs when they create performance bottlenecks\n",
    "- Memory considerations when scaling to larger datasets\n",
    "- Best practices for data exploration and visualization in HPDA workflows\n",
    "\n",
    "Let's start with practical examples!"
   ]
  },
  {
   "cell_type": "code",
   "execution_count": 1,
   "id": "ac16ef91",
   "metadata": {},
   "outputs": [],
   "source": [
    "import psutil\n",
    "import numpy as np\n",
    "import pandas as pd\n",
    "import matplotlib.pylab as plt\n",
    "%matplotlib inline"
   ]
  },
  {
   "cell_type": "code",
   "execution_count": 10,
   "id": "196ea388",
   "metadata": {},
   "outputs": [
    {
     "name": "stdout",
     "output_type": "stream",
     "text": [
      "Available RAM: 4.40 GB\n"
     ]
    }
   ],
   "source": [
    "print(f\"Available RAM: {psutil.virtual_memory().available / (1024 ** 3):.2f} GB\")"
   ]
  },
  {
   "cell_type": "markdown",
   "id": "7da3e6c4",
   "metadata": {},
   "source": [
    "## Creating Distance and Time Measurements\n",
    "\n",
    "Let's simulate a physics experiment measuring distance and time with some measurement uncertainty.\n",
    "\n",
    "**Key Parameters:**\n",
    "- **Sample size**: 1,000 measurements (small enough for fast computation)\n",
    "- **Distance**: 100 meters with 10% measurement uncertainty\n",
    "- **Time**: 10 seconds with 1% measurement uncertainty, uncorrelated with distance\n",
    "\n",
    "This represents a realistic scenario in experimental physics or sensor data collection."
   ]
  },
  {
   "cell_type": "code",
   "execution_count": 3,
   "id": "ad5f334d",
   "metadata": {},
   "outputs": [],
   "source": [
    "n_samples = 1_000\n",
    "distance_mean_m = 100\n",
    "distance_sigma_m = 10\n",
    "\n",
    "# draw samples from a normal distribution\n",
    "distance_samples_m = np.random.normal(loc=distance_mean_m, scale=distance_sigma_m, size=n_samples)"
   ]
  },
  {
   "cell_type": "code",
   "execution_count": 4,
   "id": "7ee9f2c7",
   "metadata": {},
   "outputs": [],
   "source": [
    "time_mean_s = 10\n",
    "time_sigma_s = 2\n",
    "\n",
    "time_samples_s = np.random.normal(loc=time_mean_s, scale=time_sigma_s, size=n_samples)"
   ]
  },
  {
   "cell_type": "markdown",
   "id": "ac4e9ecc",
   "metadata": {},
   "source": [
    "## Pandas DataFrame\n",
    "\n",
    "### From NumPy Arrays to Structured Data\n",
    "\n",
    "While NumPy excels at homogeneous numerical data, pandas DataFrames provide:\n",
    "\n",
    "- **Column-based organization**: Named columns with different data types\n",
    "- **Index support**: Efficient row selection and joining operations  \n",
    "- **Metadata handling**: Column names, data types, and missing value support\n",
    "- **Memory efficiency**: Columnar storage optimized for analytical operations"
   ]
  },
  {
   "cell_type": "code",
   "execution_count": 5,
   "id": "43245ee4",
   "metadata": {},
   "outputs": [],
   "source": [
    "df = pd.DataFrame(\n",
    "    {\n",
    "        \"distance_m\" : distance_samples_m,\n",
    "        \"time_s\": time_samples_s\n",
    "    }\n",
    ")"
   ]
  },
  {
   "cell_type": "markdown",
   "id": "f3566a8b",
   "metadata": {},
   "source": [
    "## Efficient Data Exploration\n",
    "\n",
    "### Quick Data Inspection with .head()\n",
    "\n",
    "The `head()` method is essential for efficient data exploration, especially with large datasets:\n",
    "\n",
    "- **Fast execution**: Only processes/displays the first few rows regardless of dataset size\n",
    "- **Structure validation**: Quickly verify column names, data types, and general data quality\n",
    "- **Memory efficient**: Doesn't load entire dataset into display buffer\n",
    "\n",
    "**HPDA Best Practice**: Always use `head()`, `tail()`, or `sample()` instead of printing entire DataFrames when working with large datasets."
   ]
  },
  {
   "cell_type": "code",
   "execution_count": 6,
   "id": "aea20b17",
   "metadata": {},
   "outputs": [
    {
     "data": {
      "application/vnd.microsoft.datawrangler.viewer.v0+json": {
       "columns": [
        {
         "name": "index",
         "rawType": "int64",
         "type": "integer"
        },
        {
         "name": "distance_m",
         "rawType": "float64",
         "type": "float"
        },
        {
         "name": "time_s",
         "rawType": "float64",
         "type": "float"
        }
       ],
       "ref": "5b27ab40-d17c-4b0a-aac2-a32ffd47d200",
       "rows": [
        [
         "0",
         "95.70289123293361",
         "15.425266804480792"
        ],
        [
         "1",
         "91.47983950852337",
         "13.411648974562821"
        ],
        [
         "2",
         "129.3362192551462",
         "8.428081872493376"
        ],
        [
         "3",
         "85.46238269684063",
         "7.227081804619341"
        ],
        [
         "4",
         "107.20820165987323",
         "7.671460480417574"
        ]
       ],
       "shape": {
        "columns": 2,
        "rows": 5
       }
      },
      "text/html": [
       "<div>\n",
       "<style scoped>\n",
       "    .dataframe tbody tr th:only-of-type {\n",
       "        vertical-align: middle;\n",
       "    }\n",
       "\n",
       "    .dataframe tbody tr th {\n",
       "        vertical-align: top;\n",
       "    }\n",
       "\n",
       "    .dataframe thead th {\n",
       "        text-align: right;\n",
       "    }\n",
       "</style>\n",
       "<table border=\"1\" class=\"dataframe\">\n",
       "  <thead>\n",
       "    <tr style=\"text-align: right;\">\n",
       "      <th></th>\n",
       "      <th>distance_m</th>\n",
       "      <th>time_s</th>\n",
       "    </tr>\n",
       "  </thead>\n",
       "  <tbody>\n",
       "    <tr>\n",
       "      <th>0</th>\n",
       "      <td>95.702891</td>\n",
       "      <td>15.425267</td>\n",
       "    </tr>\n",
       "    <tr>\n",
       "      <th>1</th>\n",
       "      <td>91.479840</td>\n",
       "      <td>13.411649</td>\n",
       "    </tr>\n",
       "    <tr>\n",
       "      <th>2</th>\n",
       "      <td>129.336219</td>\n",
       "      <td>8.428082</td>\n",
       "    </tr>\n",
       "    <tr>\n",
       "      <th>3</th>\n",
       "      <td>85.462383</td>\n",
       "      <td>7.227082</td>\n",
       "    </tr>\n",
       "    <tr>\n",
       "      <th>4</th>\n",
       "      <td>107.208202</td>\n",
       "      <td>7.671460</td>\n",
       "    </tr>\n",
       "  </tbody>\n",
       "</table>\n",
       "</div>"
      ],
      "text/plain": [
       "   distance_m     time_s\n",
       "0   95.702891  15.425267\n",
       "1   91.479840  13.411649\n",
       "2  129.336219   8.428082\n",
       "3   85.462383   7.227082\n",
       "4  107.208202   7.671460"
      ]
     },
     "execution_count": 6,
     "metadata": {},
     "output_type": "execute_result"
    }
   ],
   "source": [
    "df.head()"
   ]
  },
  {
   "cell_type": "markdown",
   "id": "47cc659c",
   "metadata": {},
   "source": [
    "### Integrated Visualization with pandas.plot\n",
    "\n",
    "Pandas provides built-in plotting capabilities that offer several advantages for HPDA:\n",
    "\n",
    "- **Zero data copying**: Plots directly from DataFrame without transferring data\n",
    "- **Automatic labeling**: Uses column names and index for axis labels\n",
    "- **Performance optimized**: Leverages matplotlib's C extensions efficiently\n",
    "- **Memory efficient**: No intermediate data structures for simple plots\n",
    "\n",
    "**When to use pandas.plot vs matplotlib directly:**\n",
    "- **pandas.plot**: Quick exploration, standard statistical plots, automatic formatting\n",
    "- **matplotlib**: Complex customization, subplots, publication-quality figures\n",
    "\n",
    "Let's create a scatter plot to explore the relationship between our variables:"
   ]
  },
  {
   "cell_type": "code",
   "execution_count": 7,
   "id": "e4738246",
   "metadata": {},
   "outputs": [
    {
     "data": {
      "text/plain": [
       "<Axes: xlabel='time [s]', ylabel='distance [m]'>"
      ]
     },
     "execution_count": 7,
     "metadata": {},
     "output_type": "execute_result"
    },
    {
     "data": {
      "image/png": "[encoded data removed]",
      "text/plain": [
       "<Figure size 640x480 with 1 Axes>"
      ]
     },
     "metadata": {},
     "output_type": "display_data"
    }
   ],
   "source": [
    "df.plot.scatter(\"time_s\", \"distance_m\", xlabel=\"time [s]\", ylabel=\"distance [m]\", grid=True)"
   ]
  },
  {
   "cell_type": "markdown",
   "id": "0d613274",
   "metadata": {},
   "source": [
    "## Vectorized Operations\n",
    "\n",
    "### Computing Derived Variables Efficiently\n",
    "\n",
    "One of pandas' greatest strengths is **vectorized operations** - applying computations to entire columns without explicit loops. This creates a new column by computing speed from distance and time.\n",
    "\n",
    "**Why Vectorized Operations Are Fast:**\n",
    "- **No Python loops**: Operations happen at C speed in NumPy/pandas core\n",
    "- **Optimized memory access**: Sequential memory access patterns optimize CPU cache usage  \n",
    "- **SIMD instructions**: Modern CPUs can process multiple values simultaneously\n",
    "- **Reduced interpreter overhead**: Single operation on millions of values vs millions of Python function calls"
   ]
  },
  {
   "cell_type": "code",
   "execution_count": 8,
   "id": "721ce477",
   "metadata": {},
   "outputs": [],
   "source": [
    "df[\"speed_m_per_s\"] = df.distance_m / df.time_s"
   ]
  },
  {
   "cell_type": "markdown",
   "id": "1a6fe6d8",
   "metadata": {},
   "source": [
    "### Statistical Distribution Analysis\n",
    "\n",
    "Histograms are essential for understanding data distributions in HPDA workflows:\n",
    "\n",
    "- **Quick distribution assessment**: Identify normal, skewed, or multi-modal distributions\n",
    "- **Outlier detection**: Spot unusual values that might indicate data quality issues\n",
    "- **Parameter validation**: Verify that generated data matches expected statistical properties\n",
    "\n",
    "**Expected Result**: Since we computed speed = distance/time with both variables normally distributed, the speed distribution should be **approximately** normal\n",
    "\n",
    "**Mathematical Insight**: The ratio of two normal distributions creates a more complex distribution, often with slightly heavier tails than a pure normal distribution."
   ]
  },
  {
   "cell_type": "code",
   "execution_count": 9,
   "id": "554e7526",
   "metadata": {},
   "outputs": [
    {
     "data": {
      "text/plain": [
       "<Axes: >"
      ]
     },
     "execution_count": 9,
     "metadata": {},
     "output_type": "execute_result"
    },
    {
     "data": {
      "image/png": "[encoded data removed]",
      "text/plain": [
       "<Figure size 640x480 with 1 Axes>"
      ]
     },
     "metadata": {},
     "output_type": "display_data"
    }
   ],
   "source": [
    "df.speed_m_per_s.hist()"
   ]
  },
  {
   "cell_type": "markdown",
   "id": "c116c880",
   "metadata": {},
   "source": [
    "## Hands-On Exercises - Will Scaling Reveal a Mystery?\n",
    "\n",
    "### 🎯 **Exercise 1: Histogram Resolution Analysis**\n",
    "\n",
    "**Challenge**: Create a histogram with much finer binning to better understand the speed distribution.\n",
    "\n",
    "**Instructions**:\n",
    "1. Use the `bins` parameter in `.hist()` to increase bin count (try 50, 100, or more)\n",
    "2. Compare how the distribution shape changes with different bin sizes\n",
    "3. Consider the trade-off between resolution and noise\n",
    "\n",
    "**Learning Objective**: Understand how histogram binning affects statistical interpretation in large datasets."
   ]
  },
  {
   "cell_type": "markdown",
   "id": "8d846b91",
   "metadata": {},
   "source": [
    "### 🧪 **Exercise 2: Statistical Parameter Exploration**  \n",
    "\n",
    "**Challenge**: Explore how different statistical parameters affect the speed distribution.\n",
    "\n",
    "**New Parameters to Test**:\n",
    "- **Distance**: ~N(100, 1) - Very precise distance measurements\n",
    "- **Time**: ~N(10, 2) - Less precise time measurements  \n",
    "\n",
    "**Instructions**:\n",
    "1. Regenerate data with these new parameters\n",
    "2. Compute the speed distribution and create a histogram\n",
    "3. Compare with the previous distribution\n",
    "\n",
    "**Research Questions**:\n",
    "- How does the precision of input measurements affect output distributions?\n",
    "- Which input variable (distance vs time) has more impact on speed uncertainty?\n",
    "- Can you predict the approximate mean and standard deviation of the resulting speed?\n",
    "\n",
    "**Advanced**: Try different parameter combinations and develop intuition for how measurement uncertainty propagates."
   ]
  },
  {
   "cell_type": "markdown",
   "id": "d7986a94",
   "metadata": {},
   "source": [
    "### 🏋️ **Exercise 3: Memory Scaling Challenge**\n",
    "\n",
    "**Challenge**: Adjust `n_samples` to use approximately 100 million samples and explain the strange behavior of the speed histogram.\n",
    "\n",
    "**Instructions**:\n",
    "1. Stay with 100 m ± 10% and 10 seconds ± 20% sample distributions\n",
    "2. Update `n_samples` and regenerate your DataFrame with 100 million samples\n",
    "3. Monitor memory usage and performance impact\n",
    "4. Check what the impact is on the time needed to make a scatter plot\n",
    "5. Check the shape of the speed histogram - does it present only a single bar in the middle of the plot?\n",
    "\n",
    "\n",
    "**Learning Objectives**:\n",
    "- Scaling from small to large datasets may reveal different aspects of data analysis"
   ]
  },
  {
   "cell_type": "markdown",
   "id": "4d9a2ad1",
   "metadata": {},
   "source": [
    "## Key Takeaways\n",
    "\n",
    "### 📊 **Performance Best Practices Learned**\n",
    "\n",
    "1. **Memory Monitoring**: Always check available resources before scaling operations\n",
    "2. **Vectorized Operations**: Use pandas/NumPy operations instead of Python loops \n",
    "3. **Efficient Exploration**: Use `head()`, `sample()`, or `info()` for large dataset inspection\n",
    "4. **Integrated Visualization**: Leverage pandas.plot for fast exploratory analysis\n",
    "5. **Statistical Awareness**: Understand how data scaling and problem size affect distributions"
   ]
  },
  {
   "cell_type": "markdown",
   "id": "7de4024e",
   "metadata": {},
   "source": []
  }
 ],
 "metadata": {
  "kernelspec": {
   "display_name": "venv (3.12.3)",
   "language": "python",
   "name": "python3"
  },
  "language_info": {
   "codemirror_mode": {
    "name": "ipython",
    "version": 3
   },
   "file_extension": ".py",
   "mimetype": "text/x-python",
   "name": "python",
   "nbconvert_exporter": "python",
   "pygments_lexer": "ipython3",
   "version": "3.12.3"
  }
 },
 "nbformat": 4,
 "nbformat_minor": 5
}
