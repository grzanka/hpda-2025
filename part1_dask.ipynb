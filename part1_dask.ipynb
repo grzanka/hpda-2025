{
 "cells": [
  {
   "cell_type": "code",
   "execution_count": 1,
   "id": "ac16ef91",
   "metadata": {},
   "outputs": [],
   "source": [
    "import pathlib\n",
    "import dask.dataframe as dd\n",
    "import psutil\n",
    "import numpy as np\n",
    "import pandas as pd"
   ]
  },
  {
   "cell_type": "code",
   "execution_count": 2,
   "id": "196ea388",
   "metadata": {},
   "outputs": [
    {
     "name": "stdout",
     "output_type": "stream",
     "text": [
      "Available RAM: 3.98 GB\n"
     ]
    }
   ],
   "source": [
    "# print amount of available RAM memory\n",
    "print(f\"Available RAM: {psutil.virtual_memory().available / (1024 ** 3):.2f} GB\")"
   ]
  },
  {
   "cell_type": "code",
   "execution_count": 3,
   "id": "3b90fb13",
   "metadata": {},
   "outputs": [
    {
     "data": {
      "text/plain": [
       "True"
      ]
     },
     "execution_count": 3,
     "metadata": {},
     "output_type": "execute_result"
    }
   ],
   "source": [
    "# using pathlib create directory called meteo\n",
    "data_raw_path = pathlib.Path(\"meteo\") / \"meteo_dask.h5\"\n",
    "data_raw_path.exists()"
   ]
  },
  {
   "cell_type": "code",
   "execution_count": 4,
   "id": "59c628f5",
   "metadata": {},
   "outputs": [],
   "source": [
    "df = dd.read_hdf(data_raw_path, key='df')"
   ]
  },
  {
   "cell_type": "code",
   "execution_count": 5,
   "id": "08bb1ac2",
   "metadata": {},
   "outputs": [
    {
     "data": {
      "application/vnd.microsoft.datawrangler.viewer.v0+json": {
       "columns": [
        {
         "name": "index",
         "rawType": "int64",
         "type": "integer"
        },
        {
         "name": "Date",
         "rawType": "string",
         "type": "string"
        },
        {
         "name": "Time",
         "rawType": "string",
         "type": "string"
        },
        {
         "name": "TempOut",
         "rawType": "float64",
         "type": "float"
        },
        {
         "name": "TempHi",
         "rawType": "float64",
         "type": "float"
        },
        {
         "name": "TempLow",
         "rawType": "float64",
         "type": "float"
        },
        {
         "name": "HumOut",
         "rawType": "int64",
         "type": "integer"
        },
        {
         "name": "DewPt",
         "rawType": "float64",
         "type": "float"
        },
        {
         "name": "WindSpeed",
         "rawType": "float64",
         "type": "float"
        },
        {
         "name": "WindDir",
         "rawType": "string",
         "type": "string"
        },
        {
         "name": "WindRun",
         "rawType": "float64",
         "type": "float"
        },
        {
         "name": "WindSpeedHi",
         "rawType": "float64",
         "type": "float"
        },
        {
         "name": "WindDirHi",
         "rawType": "string",
         "type": "string"
        },
        {
         "name": "WindChill",
         "rawType": "float64",
         "type": "float"
        },
        {
         "name": "HeatIndex",
         "rawType": "float64",
         "type": "float"
        },
        {
         "name": "THWIndex",
         "rawType": "float64",
         "type": "float"
        },
        {
         "name": "THSWIndex",
         "rawType": "float64",
         "type": "float"
        },
        {
         "name": "Bar",
         "rawType": "float64",
         "type": "float"
        },
        {
         "name": "Rain",
         "rawType": "float64",
         "type": "float"
        },
        {
         "name": "RainRate",
         "rawType": "float64",
         "type": "float"
        },
        {
         "name": "SolarRad",
         "rawType": "int64",
         "type": "integer"
        },
        {
         "name": "SolarEnergy",
         "rawType": "float64",
         "type": "float"
        },
        {
         "name": "SolarRadHi",
         "rawType": "int64",
         "type": "integer"
        },
        {
         "name": "UVIndex",
         "rawType": "float64",
         "type": "float"
        },
        {
         "name": "UVDose",
         "rawType": "float64",
         "type": "float"
        },
        {
         "name": "UVIndexHi",
         "rawType": "float64",
         "type": "float"
        },
        {
         "name": "HeatDD",
         "rawType": "float64",
         "type": "float"
        },
        {
         "name": "CoolDD",
         "rawType": "float64",
         "type": "float"
        },
        {
         "name": "TempIn",
         "rawType": "float64",
         "type": "float"
        },
        {
         "name": "HumIn",
         "rawType": "int64",
         "type": "integer"
        },
        {
         "name": "DewPtIn",
         "rawType": "float64",
         "type": "float"
        },
        {
         "name": "HeatIn",
         "rawType": "float64",
         "type": "float"
        },
        {
         "name": "ET",
         "rawType": "float64",
         "type": "float"
        },
        {
         "name": "WindSamp",
         "rawType": "float64",
         "type": "float"
        },
        {
         "name": "WindTx",
         "rawType": "float64",
         "type": "float"
        },
        {
         "name": "ISSRecept",
         "rawType": "float64",
         "type": "float"
        },
        {
         "name": "ArcInt",
         "rawType": "float64",
         "type": "float"
        }
       ],
       "ref": "148cc97d-92e4-4ccf-b1c7-289b2b6089a2",
       "rows": [
        [
         "0",
         "24-12-29",
         "0:30",
         "0.4",
         "0.4",
         "0.3",
         "98",
         "0.1",
         "0.0",
         "NE",
         "0.0",
         "0.9",
         "NE",
         "0.4",
         "0.4",
         "0.4",
         "-1.7",
         "993.2",
         "0.0",
         "0.0",
         "0",
         "0.0",
         "0",
         "0.0",
         "0.0",
         "0.0",
         "0.374",
         "0.0",
         "18.4",
         "30",
         "0.5",
         "16.4",
         "0.0",
         "699.0",
         "1.0",
         "100.0",
         "30.0"
        ],
        [
         "1",
         "24-12-29",
         "1:00",
         "0.1",
         "0.3",
         "-0.1",
         "98",
         "-0.2",
         "0.0",
         "NE",
         "0.0",
         "0.4",
         "NE",
         "0.1",
         "0.1",
         "0.1",
         "-2.1",
         "992.9",
         "0.0",
         "0.0",
         "0",
         "0.0",
         "0",
         "0.0",
         "0.0",
         "0.0",
         "0.381",
         "0.0",
         "18.4",
         "30",
         "0.5",
         "16.4",
         "0.0",
         "699.0",
         "1.0",
         "100.0",
         "30.0"
        ],
        [
         "2",
         "24-12-29",
         "1:30",
         "-0.2",
         "-0.1",
         "-0.3",
         "98",
         "-0.5",
         "0.0",
         "NE",
         "0.0",
         "0.9",
         "NE",
         "-0.2",
         "-0.2",
         "-0.2",
         "-2.3",
         "992.8",
         "0.0",
         "0.0",
         "0",
         "0.0",
         "0",
         "0.0",
         "0.0",
         "0.0",
         "0.387",
         "0.0",
         "18.3",
         "30",
         "0.4",
         "16.4",
         "0.0",
         "699.0",
         "1.0",
         "100.0",
         "30.0"
        ],
        [
         "3",
         "24-12-29",
         "2:00",
         "-0.3",
         "-0.3",
         "-0.4",
         "98",
         "-0.6",
         "0.0",
         "NE",
         "0.0",
         "0.9",
         "NE",
         "-0.3",
         "-0.3",
         "-0.3",
         "-2.5",
         "992.8",
         "0.0",
         "0.0",
         "0",
         "0.0",
         "0",
         "0.0",
         "0.0",
         "0.0",
         "0.389",
         "0.0",
         "18.3",
         "30",
         "0.4",
         "16.3",
         "0.0",
         "700.0",
         "1.0",
         "100.0",
         "30.0"
        ],
        [
         "4",
         "24-12-29",
         "2:30",
         "-0.5",
         "-0.4",
         "-0.6",
         "98",
         "-0.8",
         "0.0",
         "NE",
         "0.0",
         "0.9",
         "NE",
         "-0.5",
         "-0.5",
         "-0.5",
         "-2.7",
         "992.7",
         "0.0",
         "0.0",
         "0",
         "0.0",
         "0",
         "0.0",
         "0.0",
         "0.0",
         "0.392",
         "0.0",
         "18.3",
         "30",
         "0.4",
         "16.3",
         "0.0",
         "701.0",
         "1.0",
         "100.0",
         "30.0"
        ]
       ],
       "shape": {
        "columns": 36,
        "rows": 5
       }
      },
      "text/html": [
       "<div>\n",
       "<style scoped>\n",
       "    .dataframe tbody tr th:only-of-type {\n",
       "        vertical-align: middle;\n",
       "    }\n",
       "\n",
       "    .dataframe tbody tr th {\n",
       "        vertical-align: top;\n",
       "    }\n",
       "\n",
       "    .dataframe thead th {\n",
       "        text-align: right;\n",
       "    }\n",
       "</style>\n",
       "<table border=\"1\" class=\"dataframe\">\n",
       "  <thead>\n",
       "    <tr style=\"text-align: right;\">\n",
       "      <th></th>\n",
       "      <th>Date</th>\n",
       "      <th>Time</th>\n",
       "      <th>TempOut</th>\n",
       "      <th>TempHi</th>\n",
       "      <th>TempLow</th>\n",
       "      <th>HumOut</th>\n",
       "      <th>DewPt</th>\n",
       "      <th>WindSpeed</th>\n",
       "      <th>WindDir</th>\n",
       "      <th>WindRun</th>\n",
       "      <th>...</th>\n",
       "      <th>CoolDD</th>\n",
       "      <th>TempIn</th>\n",
       "      <th>HumIn</th>\n",
       "      <th>DewPtIn</th>\n",
       "      <th>HeatIn</th>\n",
       "      <th>ET</th>\n",
       "      <th>WindSamp</th>\n",
       "      <th>WindTx</th>\n",
       "      <th>ISSRecept</th>\n",
       "      <th>ArcInt</th>\n",
       "    </tr>\n",
       "  </thead>\n",
       "  <tbody>\n",
       "    <tr>\n",
       "      <th>0</th>\n",
       "      <td>24-12-29</td>\n",
       "      <td>0:30</td>\n",
       "      <td>0.4</td>\n",
       "      <td>0.4</td>\n",
       "      <td>0.3</td>\n",
       "      <td>98</td>\n",
       "      <td>0.1</td>\n",
       "      <td>0.0</td>\n",
       "      <td>NE</td>\n",
       "      <td>0.0</td>\n",
       "      <td>...</td>\n",
       "      <td>0.0</td>\n",
       "      <td>18.4</td>\n",
       "      <td>30</td>\n",
       "      <td>0.5</td>\n",
       "      <td>16.4</td>\n",
       "      <td>0.0</td>\n",
       "      <td>699.0</td>\n",
       "      <td>1.0</td>\n",
       "      <td>100.0</td>\n",
       "      <td>30.0</td>\n",
       "    </tr>\n",
       "    <tr>\n",
       "      <th>1</th>\n",
       "      <td>24-12-29</td>\n",
       "      <td>1:00</td>\n",
       "      <td>0.1</td>\n",
       "      <td>0.3</td>\n",
       "      <td>-0.1</td>\n",
       "      <td>98</td>\n",
       "      <td>-0.2</td>\n",
       "      <td>0.0</td>\n",
       "      <td>NE</td>\n",
       "      <td>0.0</td>\n",
       "      <td>...</td>\n",
       "      <td>0.0</td>\n",
       "      <td>18.4</td>\n",
       "      <td>30</td>\n",
       "      <td>0.5</td>\n",
       "      <td>16.4</td>\n",
       "      <td>0.0</td>\n",
       "      <td>699.0</td>\n",
       "      <td>1.0</td>\n",
       "      <td>100.0</td>\n",
       "      <td>30.0</td>\n",
       "    </tr>\n",
       "    <tr>\n",
       "      <th>2</th>\n",
       "      <td>24-12-29</td>\n",
       "      <td>1:30</td>\n",
       "      <td>-0.2</td>\n",
       "      <td>-0.1</td>\n",
       "      <td>-0.3</td>\n",
       "      <td>98</td>\n",
       "      <td>-0.5</td>\n",
       "      <td>0.0</td>\n",
       "      <td>NE</td>\n",
       "      <td>0.0</td>\n",
       "      <td>...</td>\n",
       "      <td>0.0</td>\n",
       "      <td>18.3</td>\n",
       "      <td>30</td>\n",
       "      <td>0.4</td>\n",
       "      <td>16.4</td>\n",
       "      <td>0.0</td>\n",
       "      <td>699.0</td>\n",
       "      <td>1.0</td>\n",
       "      <td>100.0</td>\n",
       "      <td>30.0</td>\n",
       "    </tr>\n",
       "    <tr>\n",
       "      <th>3</th>\n",
       "      <td>24-12-29</td>\n",
       "      <td>2:00</td>\n",
       "      <td>-0.3</td>\n",
       "      <td>-0.3</td>\n",
       "      <td>-0.4</td>\n",
       "      <td>98</td>\n",
       "      <td>-0.6</td>\n",
       "      <td>0.0</td>\n",
       "      <td>NE</td>\n",
       "      <td>0.0</td>\n",
       "      <td>...</td>\n",
       "      <td>0.0</td>\n",
       "      <td>18.3</td>\n",
       "      <td>30</td>\n",
       "      <td>0.4</td>\n",
       "      <td>16.3</td>\n",
       "      <td>0.0</td>\n",
       "      <td>700.0</td>\n",
       "      <td>1.0</td>\n",
       "      <td>100.0</td>\n",
       "      <td>30.0</td>\n",
       "    </tr>\n",
       "    <tr>\n",
       "      <th>4</th>\n",
       "      <td>24-12-29</td>\n",
       "      <td>2:30</td>\n",
       "      <td>-0.5</td>\n",
       "      <td>-0.4</td>\n",
       "      <td>-0.6</td>\n",
       "      <td>98</td>\n",
       "      <td>-0.8</td>\n",
       "      <td>0.0</td>\n",
       "      <td>NE</td>\n",
       "      <td>0.0</td>\n",
       "      <td>...</td>\n",
       "      <td>0.0</td>\n",
       "      <td>18.3</td>\n",
       "      <td>30</td>\n",
       "      <td>0.4</td>\n",
       "      <td>16.3</td>\n",
       "      <td>0.0</td>\n",
       "      <td>701.0</td>\n",
       "      <td>1.0</td>\n",
       "      <td>100.0</td>\n",
       "      <td>30.0</td>\n",
       "    </tr>\n",
       "  </tbody>\n",
       "</table>\n",
       "<p>5 rows × 36 columns</p>\n",
       "</div>"
      ],
      "text/plain": [
       "       Date  Time  TempOut  TempHi  TempLow  HumOut  DewPt  WindSpeed WindDir  \\\n",
       "0  24-12-29  0:30      0.4     0.4      0.3      98    0.1        0.0      NE   \n",
       "1  24-12-29  1:00      0.1     0.3     -0.1      98   -0.2        0.0      NE   \n",
       "2  24-12-29  1:30     -0.2    -0.1     -0.3      98   -0.5        0.0      NE   \n",
       "3  24-12-29  2:00     -0.3    -0.3     -0.4      98   -0.6        0.0      NE   \n",
       "4  24-12-29  2:30     -0.5    -0.4     -0.6      98   -0.8        0.0      NE   \n",
       "\n",
       "   WindRun  ...  CoolDD TempIn  HumIn  DewPtIn  HeatIn   ET  WindSamp  WindTx  \\\n",
       "0      0.0  ...     0.0   18.4     30      0.5    16.4  0.0     699.0     1.0   \n",
       "1      0.0  ...     0.0   18.4     30      0.5    16.4  0.0     699.0     1.0   \n",
       "2      0.0  ...     0.0   18.3     30      0.4    16.4  0.0     699.0     1.0   \n",
       "3      0.0  ...     0.0   18.3     30      0.4    16.3  0.0     700.0     1.0   \n",
       "4      0.0  ...     0.0   18.3     30      0.4    16.3  0.0     701.0     1.0   \n",
       "\n",
       "   ISSRecept  ArcInt  \n",
       "0      100.0    30.0  \n",
       "1      100.0    30.0  \n",
       "2      100.0    30.0  \n",
       "3      100.0    30.0  \n",
       "4      100.0    30.0  \n",
       "\n",
       "[5 rows x 36 columns]"
      ]
     },
     "execution_count": 5,
     "metadata": {},
     "output_type": "execute_result"
    }
   ],
   "source": [
    "df.head()"
   ]
  },
  {
   "cell_type": "code",
   "execution_count": 6,
   "id": "21d7868c",
   "metadata": {},
   "outputs": [
    {
     "data": {
      "application/vnd.microsoft.datawrangler.viewer.v0+json": {
       "columns": [
        {
         "name": "index",
         "rawType": "object",
         "type": "string"
        },
        {
         "name": "0",
         "rawType": "object",
         "type": "unknown"
        }
       ],
       "ref": "46aa462e-dde7-436d-a5b4-11e2fed92819",
       "rows": [
        [
         "Date",
         "string"
        ],
        [
         "Time",
         "string"
        ],
        [
         "TempOut",
         "float64"
        ],
        [
         "TempHi",
         "float64"
        ],
        [
         "TempLow",
         "float64"
        ],
        [
         "HumOut",
         "int64"
        ],
        [
         "DewPt",
         "float64"
        ],
        [
         "WindSpeed",
         "float64"
        ],
        [
         "WindDir",
         "string"
        ],
        [
         "WindRun",
         "float64"
        ],
        [
         "WindSpeedHi",
         "float64"
        ],
        [
         "WindDirHi",
         "string"
        ],
        [
         "WindChill",
         "float64"
        ],
        [
         "HeatIndex",
         "float64"
        ],
        [
         "THWIndex",
         "float64"
        ],
        [
         "THSWIndex",
         "float64"
        ],
        [
         "Bar",
         "float64"
        ],
        [
         "Rain",
         "float64"
        ],
        [
         "RainRate",
         "float64"
        ],
        [
         "SolarRad",
         "int64"
        ],
        [
         "SolarEnergy",
         "float64"
        ],
        [
         "SolarRadHi",
         "int64"
        ],
        [
         "UVIndex",
         "float64"
        ],
        [
         "UVDose",
         "float64"
        ],
        [
         "UVIndexHi",
         "float64"
        ],
        [
         "HeatDD",
         "float64"
        ],
        [
         "CoolDD",
         "float64"
        ],
        [
         "TempIn",
         "float64"
        ],
        [
         "HumIn",
         "int64"
        ],
        [
         "DewPtIn",
         "float64"
        ],
        [
         "HeatIn",
         "float64"
        ],
        [
         "ET",
         "float64"
        ],
        [
         "WindSamp",
         "float64"
        ],
        [
         "WindTx",
         "float64"
        ],
        [
         "ISSRecept",
         "float64"
        ],
        [
         "ArcInt",
         "float64"
        ]
       ],
       "shape": {
        "columns": 1,
        "rows": 36
       }
      },
      "text/plain": [
       "Date           string[pyarrow]\n",
       "Time           string[pyarrow]\n",
       "TempOut                float64\n",
       "TempHi                 float64\n",
       "TempLow                float64\n",
       "HumOut                   int64\n",
       "DewPt                  float64\n",
       "WindSpeed              float64\n",
       "WindDir        string[pyarrow]\n",
       "WindRun                float64\n",
       "WindSpeedHi            float64\n",
       "WindDirHi      string[pyarrow]\n",
       "WindChill              float64\n",
       "HeatIndex              float64\n",
       "THWIndex               float64\n",
       "THSWIndex              float64\n",
       "Bar                    float64\n",
       "Rain                   float64\n",
       "RainRate               float64\n",
       "SolarRad                 int64\n",
       "SolarEnergy            float64\n",
       "SolarRadHi               int64\n",
       "UVIndex                float64\n",
       "UVDose                 float64\n",
       "UVIndexHi              float64\n",
       "HeatDD                 float64\n",
       "CoolDD                 float64\n",
       "TempIn                 float64\n",
       "HumIn                    int64\n",
       "DewPtIn                float64\n",
       "HeatIn                 float64\n",
       "ET                     float64\n",
       "WindSamp               float64\n",
       "WindTx                 float64\n",
       "ISSRecept              float64\n",
       "ArcInt                 float64\n",
       "dtype: object"
      ]
     },
     "execution_count": 6,
     "metadata": {},
     "output_type": "execute_result"
    }
   ],
   "source": [
    "df.dtypes"
   ]
  },
  {
   "cell_type": "code",
   "execution_count": 7,
   "id": "f5ce86a5",
   "metadata": {},
   "outputs": [
    {
     "data": {
      "text/plain": [
       "14108"
      ]
     },
     "execution_count": 7,
     "metadata": {},
     "output_type": "execute_result"
    }
   ],
   "source": [
    "len(df)"
   ]
  },
  {
   "cell_type": "code",
   "execution_count": 8,
   "id": "c68d3d63",
   "metadata": {},
   "outputs": [
    {
     "data": {
      "text/plain": [
       "<dask_expr.expr.Scalar: expr=((Filter(frame=ArrowStringConversion(frame=FromMapProjectable(b391f08)), predicate=ArrowStringConversion(frame=FromMapProjectable(b391f08))['HumOut'] > 0))['TempOut']).mean(), dtype=float64>"
      ]
     },
     "execution_count": 8,
     "metadata": {},
     "output_type": "execute_result"
    }
   ],
   "source": [
    "df[df.HumOut > 0].TempOut.mean()"
   ]
  },
  {
   "cell_type": "code",
   "execution_count": 9,
   "id": "ef8c796f",
   "metadata": {},
   "outputs": [
    {
     "data": {
      "text/plain": [
       "np.float64(12.60372155667399)"
      ]
     },
     "execution_count": 9,
     "metadata": {},
     "output_type": "execute_result"
    }
   ],
   "source": [
    "df[df.HumOut > 0].TempOut.mean().compute()"
   ]
  },
  {
   "cell_type": "code",
   "execution_count": 10,
   "id": "71f5361d",
   "metadata": {},
   "outputs": [
    {
     "data": {
      "image/svg+xml": [
       "<?xml version=\"1.0\" encoding=\"UTF-8\" standalone=\"no\"?>\n",
       "<!DOCTYPE svg PUBLIC \"-//W3C//DTD SVG 1.1//EN\"\n",
       " \"http://www.w3.org/Graphics/SVG/1.1/DTD/svg11.dtd\">\n",
       "<!-- Generated by graphviz version 2.43.0 (0)\n",
       " -->\n",
       "<!-- Title: %3 Pages: 1 -->\n",
       "<svg width=\"550pt\" height=\"476pt\"\n",
       " viewBox=\"0.00 0.00 549.50 476.00\" xmlns=\"http://www.w3.org/2000/svg\" xmlns:xlink=\"http://www.w3.org/1999/xlink\">\n",
       "<g id=\"graph0\" class=\"graph\" transform=\"scale(1 1) rotate(0) translate(4 472)\">\n",
       "<title>%3</title>\n",
       "<polygon fill=\"white\" stroke=\"transparent\" points=\"-4,4 -4,-472 545.5,-472 545.5,4 -4,4\"/>\n",
       "<!-- &#45;5508426484552442649 -->\n",
       "<g id=\"node1\" class=\"node\">\n",
       "<title>&#45;5508426484552442649</title>\n",
       "<polygon fill=\"none\" stroke=\"black\" points=\"244.5,-468 74.5,-468 74.5,-432 244.5,-432 244.5,-468\"/>\n",
       "<text text-anchor=\"middle\" x=\"159.5\" y=\"-445\" font-family=\"Helvetica,sans-Serif\" font-size=\"20.00\">Mean(Projection)</text>\n",
       "</g>\n",
       "<!-- &#45;7481074648104200671 -->\n",
       "<g id=\"node2\" class=\"node\">\n",
       "<title>&#45;7481074648104200671</title>\n",
       "<polygon fill=\"none\" stroke=\"black\" points=\"286.5,-396 32.5,-396 32.5,-360 286.5,-360 286.5,-396\"/>\n",
       "<text text-anchor=\"middle\" x=\"159.5\" y=\"-373\" font-family=\"Helvetica,sans-Serif\" font-size=\"20.00\">Projection(Filter, TempOut)</text>\n",
       "</g>\n",
       "<!-- &#45;7481074648104200671&#45;&gt;&#45;5508426484552442649 -->\n",
       "<g id=\"edge1\" class=\"edge\">\n",
       "<title>&#45;7481074648104200671&#45;&gt;&#45;5508426484552442649</title>\n",
       "<path fill=\"none\" stroke=\"black\" d=\"M159.5,-396.3C159.5,-404.02 159.5,-413.29 159.5,-421.89\"/>\n",
       "<polygon fill=\"black\" stroke=\"black\" points=\"156,-421.9 159.5,-431.9 163,-421.9 156,-421.9\"/>\n",
       "</g>\n",
       "<!-- &#45;3946432482137826611 -->\n",
       "<g id=\"node3\" class=\"node\">\n",
       "<title>&#45;3946432482137826611</title>\n",
       "<polygon fill=\"none\" stroke=\"black\" points=\"319,-324 0,-324 0,-288 319,-288 319,-324\"/>\n",
       "<text text-anchor=\"middle\" x=\"159.5\" y=\"-301\" font-family=\"Helvetica,sans-Serif\" font-size=\"20.00\">Filter(ArrowStringConversion, GT)</text>\n",
       "</g>\n",
       "<!-- &#45;3946432482137826611&#45;&gt;&#45;7481074648104200671 -->\n",
       "<g id=\"edge2\" class=\"edge\">\n",
       "<title>&#45;3946432482137826611&#45;&gt;&#45;7481074648104200671</title>\n",
       "<path fill=\"none\" stroke=\"black\" d=\"M159.5,-324.3C159.5,-332.02 159.5,-341.29 159.5,-349.89\"/>\n",
       "<polygon fill=\"black\" stroke=\"black\" points=\"156,-349.9 159.5,-359.9 163,-349.9 156,-349.9\"/>\n",
       "</g>\n",
       "<!-- &#45;9222820423582173620 -->\n",
       "<g id=\"node4\" class=\"node\">\n",
       "<title>&#45;9222820423582173620</title>\n",
       "<polygon fill=\"none\" stroke=\"black\" points=\"360,-252 191,-252 191,-216 360,-216 360,-252\"/>\n",
       "<text text-anchor=\"middle\" x=\"275.5\" y=\"-229\" font-family=\"Helvetica,sans-Serif\" font-size=\"20.00\">GT(Projection, 0)</text>\n",
       "</g>\n",
       "<!-- &#45;9222820423582173620&#45;&gt;&#45;3946432482137826611 -->\n",
       "<g id=\"edge3\" class=\"edge\">\n",
       "<title>&#45;9222820423582173620&#45;&gt;&#45;3946432482137826611</title>\n",
       "<path fill=\"none\" stroke=\"black\" d=\"M247.12,-252.12C231.96,-261.28 213.09,-272.66 196.76,-282.52\"/>\n",
       "<polygon fill=\"black\" stroke=\"black\" points=\"194.74,-279.65 187.99,-287.81 198.36,-285.64 194.74,-279.65\"/>\n",
       "</g>\n",
       "<!-- &#45;6581547034702084530 -->\n",
       "<g id=\"node5\" class=\"node\">\n",
       "<title>&#45;6581547034702084530</title>\n",
       "<polygon fill=\"none\" stroke=\"black\" points=\"541.5,-180 131.5,-180 131.5,-144 541.5,-144 541.5,-180\"/>\n",
       "<text text-anchor=\"middle\" x=\"336.5\" y=\"-157\" font-family=\"Helvetica,sans-Serif\" font-size=\"20.00\">Projection(ArrowStringConversion, HumOut)</text>\n",
       "</g>\n",
       "<!-- &#45;6581547034702084530&#45;&gt;&#45;9222820423582173620 -->\n",
       "<g id=\"edge5\" class=\"edge\">\n",
       "<title>&#45;6581547034702084530&#45;&gt;&#45;9222820423582173620</title>\n",
       "<path fill=\"none\" stroke=\"black\" d=\"M321.42,-180.3C314.11,-188.7 305.19,-198.93 297.16,-208.14\"/>\n",
       "<polygon fill=\"black\" stroke=\"black\" points=\"294.34,-206.06 290.41,-215.9 299.61,-210.66 294.34,-206.06\"/>\n",
       "</g>\n",
       "<!-- &#45;2306173932655142035 -->\n",
       "<g id=\"node6\" class=\"node\">\n",
       "<title>&#45;2306173932655142035</title>\n",
       "<polygon fill=\"none\" stroke=\"black\" points=\"430.5,-108 8.5,-108 8.5,-72 430.5,-72 430.5,-108\"/>\n",
       "<text text-anchor=\"middle\" x=\"219.5\" y=\"-85\" font-family=\"Helvetica,sans-Serif\" font-size=\"20.00\">ArrowStringConversion(FromMapProjectable)</text>\n",
       "</g>\n",
       "<!-- &#45;2306173932655142035&#45;&gt;&#45;3946432482137826611 -->\n",
       "<g id=\"edge4\" class=\"edge\">\n",
       "<title>&#45;2306173932655142035&#45;&gt;&#45;3946432482137826611</title>\n",
       "<path fill=\"none\" stroke=\"black\" d=\"M165.48,-108.04C148.73,-116.15 132.14,-127.74 122.5,-144 97.09,-186.84 123.19,-245.65 142.6,-279.05\"/>\n",
       "<polygon fill=\"black\" stroke=\"black\" points=\"139.69,-281 147.85,-287.76 145.68,-277.39 139.69,-281\"/>\n",
       "</g>\n",
       "<!-- &#45;2306173932655142035&#45;&gt;&#45;6581547034702084530 -->\n",
       "<g id=\"edge6\" class=\"edge\">\n",
       "<title>&#45;2306173932655142035&#45;&gt;&#45;6581547034702084530</title>\n",
       "<path fill=\"none\" stroke=\"black\" d=\"M248.12,-108.12C263.42,-117.28 282.44,-128.66 298.92,-138.52\"/>\n",
       "<polygon fill=\"black\" stroke=\"black\" points=\"297.39,-141.68 307.77,-143.81 300.98,-135.67 297.39,-141.68\"/>\n",
       "</g>\n",
       "<!-- 1634500134627627793 -->\n",
       "<g id=\"node7\" class=\"node\">\n",
       "<title>1634500134627627793</title>\n",
       "<polygon fill=\"none\" stroke=\"black\" points=\"321,-36 118,-36 118,0 321,0 321,-36\"/>\n",
       "<text text-anchor=\"middle\" x=\"219.5\" y=\"-13\" font-family=\"Helvetica,sans-Serif\" font-size=\"20.00\">FromMapProjectable</text>\n",
       "</g>\n",
       "<!-- 1634500134627627793&#45;&gt;&#45;2306173932655142035 -->\n",
       "<g id=\"edge7\" class=\"edge\">\n",
       "<title>1634500134627627793&#45;&gt;&#45;2306173932655142035</title>\n",
       "<path fill=\"none\" stroke=\"black\" d=\"M219.5,-36.3C219.5,-44.02 219.5,-53.29 219.5,-61.89\"/>\n",
       "<polygon fill=\"black\" stroke=\"black\" points=\"216,-61.9 219.5,-71.9 223,-61.9 216,-61.9\"/>\n",
       "</g>\n",
       "</g>\n",
       "</svg>\n"
      ],
      "text/plain": [
       "<graphviz.graphs.Digraph at 0x787a43f218b0>"
      ]
     },
     "execution_count": 10,
     "metadata": {},
     "output_type": "execute_result"
    }
   ],
   "source": [
    "df[df.HumOut > 0].TempOut.mean().visualize(engine='cytoscape')"
   ]
  },
  {
   "cell_type": "code",
   "execution_count": 11,
   "id": "ac5275fe",
   "metadata": {},
   "outputs": [
    {
     "data": {
      "application/vnd.microsoft.datawrangler.viewer.v0+json": {
       "columns": [
        {
         "name": "HumOut",
         "rawType": "int64",
         "type": "integer"
        },
        {
         "name": "TempOut",
         "rawType": "float64",
         "type": "float"
        }
       ],
       "ref": "8eb0411b-6ab5-4f46-9348-ad98b6a55509",
       "rows": [
        [
         "-1",
         null
        ],
        [
         "23",
         "20.9"
        ],
        [
         "24",
         "20.55"
        ],
        [
         "25",
         "20.233333333333334"
        ],
        [
         "26",
         "19.75"
        ],
        [
         "28",
         "18.544444444444444"
        ],
        [
         "29",
         "19.316666666666666"
        ],
        [
         "30",
         "19.58235294117647"
        ],
        [
         "31",
         "21.533333333333335"
        ],
        [
         "32",
         "22.69047619047619"
        ],
        [
         "33",
         "25.69333333333333"
        ],
        [
         "34",
         "24.32"
        ],
        [
         "35",
         "25.11935483870968"
        ],
        [
         "36",
         "23.775"
        ],
        [
         "37",
         "22.683333333333334"
        ],
        [
         "38",
         "20.46"
        ],
        [
         "39",
         "20.498333333333335"
        ],
        [
         "40",
         "21.57017543859649"
        ],
        [
         "41",
         "21.735526315789475"
        ],
        [
         "42",
         "19.160999999999998"
        ],
        [
         "43",
         "19.61470588235294"
        ],
        [
         "44",
         "20.72089552238806"
        ],
        [
         "45",
         "20.20344827586207"
        ],
        [
         "46",
         "19.66691176470588"
        ],
        [
         "47",
         "19.163522012578618"
        ],
        [
         "48",
         "19.329545454545453"
        ],
        [
         "49",
         "19.015107913669063"
        ],
        [
         "50",
         "19.728275862068966"
        ],
        [
         "51",
         "18.770967741935483"
        ],
        [
         "52",
         "18.61604938271605"
        ],
        [
         "53",
         "19.712307692307693"
        ],
        [
         "54",
         "18.093167701863354"
        ],
        [
         "55",
         "18.926455026455027"
        ],
        [
         "56",
         "17.95229885057471"
        ],
        [
         "57",
         "18.633544303797468"
        ],
        [
         "58",
         "16.883435582822084"
        ],
        [
         "59",
         "15.787931034482758"
        ],
        [
         "60",
         "15.84262295081967"
        ],
        [
         "61",
         "17.25527950310559"
        ],
        [
         "62",
         "15.251497005988025"
        ],
        [
         "63",
         "14.222549019607843"
        ],
        [
         "64",
         "14.57047619047619"
        ],
        [
         "65",
         "15.696666666666667"
        ],
        [
         "66",
         "14.303301886792454"
        ],
        [
         "67",
         "14.055947136563876"
        ],
        [
         "68",
         "13.436842105263159"
        ],
        [
         "69",
         "14.244059405940595"
        ],
        [
         "70",
         "14.248051948051948"
        ],
        [
         "71",
         "13.225480769230769"
        ],
        [
         "72",
         "12.621287128712872"
        ]
       ],
       "shape": {
        "columns": 1,
        "rows": 78
       }
      },
      "text/plain": [
       "HumOut\n",
       "-1            NaN\n",
       " 23     20.900000\n",
       " 24     20.550000\n",
       " 25     20.233333\n",
       " 26     19.750000\n",
       "          ...    \n",
       " 96      6.416082\n",
       " 97      8.088943\n",
       " 98      8.309697\n",
       " 99      9.622543\n",
       " 100    15.148000\n",
       "Name: TempOut, Length: 78, dtype: float64"
      ]
     },
     "execution_count": 11,
     "metadata": {},
     "output_type": "execute_result"
    }
   ],
   "source": [
    "df.TempOut.groupby(df.HumOut).mean().compute()"
   ]
  },
  {
   "cell_type": "code",
   "execution_count": 12,
   "id": "a962a1f5",
   "metadata": {},
   "outputs": [
    {
     "data": {
      "image/svg+xml": [
       "<?xml version=\"1.0\" encoding=\"UTF-8\" standalone=\"no\"?>\n",
       "<!DOCTYPE svg PUBLIC \"-//W3C//DTD SVG 1.1//EN\"\n",
       " \"http://www.w3.org/Graphics/SVG/1.1/DTD/svg11.dtd\">\n",
       "<!-- Generated by graphviz version 2.43.0 (0)\n",
       " -->\n",
       "<!-- Title: %3 Pages: 1 -->\n",
       "<svg width=\"853pt\" height=\"332pt\"\n",
       " viewBox=\"0.00 0.00 852.50 332.00\" xmlns=\"http://www.w3.org/2000/svg\" xmlns:xlink=\"http://www.w3.org/1999/xlink\">\n",
       "<g id=\"graph0\" class=\"graph\" transform=\"scale(1 1) rotate(0) translate(4 328)\">\n",
       "<title>%3</title>\n",
       "<polygon fill=\"white\" stroke=\"transparent\" points=\"-4,4 -4,-328 848.5,-328 848.5,4 -4,4\"/>\n",
       "<!-- &#45;5895130542907255695 -->\n",
       "<g id=\"node1\" class=\"node\">\n",
       "<title>&#45;5895130542907255695</title>\n",
       "<polygon fill=\"none\" stroke=\"black\" points=\"550.5,-324 289.5,-324 289.5,-288 550.5,-288 550.5,-324\"/>\n",
       "<text text-anchor=\"middle\" x=\"420\" y=\"-301\" font-family=\"Helvetica,sans-Serif\" font-size=\"20.00\">Projection(Mean, TempOut)</text>\n",
       "</g>\n",
       "<!-- &#45;8403929528771799314 -->\n",
       "<g id=\"node2\" class=\"node\">\n",
       "<title>&#45;8403929528771799314</title>\n",
       "<polygon fill=\"none\" stroke=\"black\" points=\"554.5,-252 285.5,-252 285.5,-216 554.5,-216 554.5,-252\"/>\n",
       "<text text-anchor=\"middle\" x=\"420\" y=\"-229\" font-family=\"Helvetica,sans-Serif\" font-size=\"20.00\">Mean(Projection, Projection)</text>\n",
       "</g>\n",
       "<!-- &#45;8403929528771799314&#45;&gt;&#45;5895130542907255695 -->\n",
       "<g id=\"edge1\" class=\"edge\">\n",
       "<title>&#45;8403929528771799314&#45;&gt;&#45;5895130542907255695</title>\n",
       "<path fill=\"none\" stroke=\"black\" d=\"M420,-252.3C420,-260.02 420,-269.29 420,-277.89\"/>\n",
       "<polygon fill=\"black\" stroke=\"black\" points=\"416.5,-277.9 420,-287.9 423.5,-277.9 416.5,-277.9\"/>\n",
       "</g>\n",
       "<!-- &#45;6581547034702084530 -->\n",
       "<g id=\"node3\" class=\"node\">\n",
       "<title>&#45;6581547034702084530</title>\n",
       "<polygon fill=\"none\" stroke=\"black\" points=\"410,-180 0,-180 0,-144 410,-144 410,-180\"/>\n",
       "<text text-anchor=\"middle\" x=\"205\" y=\"-157\" font-family=\"Helvetica,sans-Serif\" font-size=\"20.00\">Projection(ArrowStringConversion, HumOut)</text>\n",
       "</g>\n",
       "<!-- &#45;6581547034702084530&#45;&gt;&#45;8403929528771799314 -->\n",
       "<g id=\"edge3\" class=\"edge\">\n",
       "<title>&#45;6581547034702084530&#45;&gt;&#45;8403929528771799314</title>\n",
       "<path fill=\"none\" stroke=\"black\" d=\"M257.32,-180.03C287.62,-189.9 325.95,-202.38 357.79,-212.75\"/>\n",
       "<polygon fill=\"black\" stroke=\"black\" points=\"356.85,-216.12 367.45,-215.89 359.02,-209.47 356.85,-216.12\"/>\n",
       "</g>\n",
       "<!-- &#45;2306173932655142035 -->\n",
       "<g id=\"node4\" class=\"node\">\n",
       "<title>&#45;2306173932655142035</title>\n",
       "<polygon fill=\"none\" stroke=\"black\" points=\"631,-108 209,-108 209,-72 631,-72 631,-108\"/>\n",
       "<text text-anchor=\"middle\" x=\"420\" y=\"-85\" font-family=\"Helvetica,sans-Serif\" font-size=\"20.00\">ArrowStringConversion(FromMapProjectable)</text>\n",
       "</g>\n",
       "<!-- &#45;2306173932655142035&#45;&gt;&#45;6581547034702084530 -->\n",
       "<g id=\"edge4\" class=\"edge\">\n",
       "<title>&#45;2306173932655142035&#45;&gt;&#45;6581547034702084530</title>\n",
       "<path fill=\"none\" stroke=\"black\" d=\"M367.68,-108.03C337.38,-117.9 299.05,-130.38 267.21,-140.75\"/>\n",
       "<polygon fill=\"black\" stroke=\"black\" points=\"265.98,-137.47 257.55,-143.89 268.15,-144.12 265.98,-137.47\"/>\n",
       "</g>\n",
       "<!-- &#45;6267802021959230005 -->\n",
       "<g id=\"node6\" class=\"node\">\n",
       "<title>&#45;6267802021959230005</title>\n",
       "<polygon fill=\"none\" stroke=\"black\" points=\"844.5,-180 427.5,-180 427.5,-144 844.5,-144 844.5,-180\"/>\n",
       "<text text-anchor=\"middle\" x=\"636\" y=\"-157\" font-family=\"Helvetica,sans-Serif\" font-size=\"20.00\">Projection(ArrowStringConversion, TempOut)</text>\n",
       "</g>\n",
       "<!-- &#45;2306173932655142035&#45;&gt;&#45;6267802021959230005 -->\n",
       "<g id=\"edge6\" class=\"edge\">\n",
       "<title>&#45;2306173932655142035&#45;&gt;&#45;6267802021959230005</title>\n",
       "<path fill=\"none\" stroke=\"black\" d=\"M472.56,-108.03C503.01,-117.9 541.51,-130.38 573.5,-140.75\"/>\n",
       "<polygon fill=\"black\" stroke=\"black\" points=\"572.61,-144.14 583.2,-143.89 574.77,-137.48 572.61,-144.14\"/>\n",
       "</g>\n",
       "<!-- 1634500134627627793 -->\n",
       "<g id=\"node5\" class=\"node\">\n",
       "<title>1634500134627627793</title>\n",
       "<polygon fill=\"none\" stroke=\"black\" points=\"521.5,-36 318.5,-36 318.5,0 521.5,0 521.5,-36\"/>\n",
       "<text text-anchor=\"middle\" x=\"420\" y=\"-13\" font-family=\"Helvetica,sans-Serif\" font-size=\"20.00\">FromMapProjectable</text>\n",
       "</g>\n",
       "<!-- 1634500134627627793&#45;&gt;&#45;2306173932655142035 -->\n",
       "<g id=\"edge5\" class=\"edge\">\n",
       "<title>1634500134627627793&#45;&gt;&#45;2306173932655142035</title>\n",
       "<path fill=\"none\" stroke=\"black\" d=\"M420,-36.3C420,-44.02 420,-53.29 420,-61.89\"/>\n",
       "<polygon fill=\"black\" stroke=\"black\" points=\"416.5,-61.9 420,-71.9 423.5,-61.9 416.5,-61.9\"/>\n",
       "</g>\n",
       "<!-- &#45;6267802021959230005&#45;&gt;&#45;8403929528771799314 -->\n",
       "<g id=\"edge2\" class=\"edge\">\n",
       "<title>&#45;6267802021959230005&#45;&gt;&#45;8403929528771799314</title>\n",
       "<path fill=\"none\" stroke=\"black\" d=\"M583.44,-180.03C552.99,-189.9 514.49,-202.38 482.5,-212.75\"/>\n",
       "<polygon fill=\"black\" stroke=\"black\" points=\"481.23,-209.48 472.8,-215.89 483.39,-216.14 481.23,-209.48\"/>\n",
       "</g>\n",
       "</g>\n",
       "</svg>\n"
      ],
      "text/plain": [
       "<graphviz.graphs.Digraph at 0x787a123d6510>"
      ]
     },
     "execution_count": 12,
     "metadata": {},
     "output_type": "execute_result"
    }
   ],
   "source": [
    "df.TempOut.groupby(df.HumOut).mean().visualize(engine='cytoscape')"
   ]
  },
  {
   "cell_type": "code",
   "execution_count": null,
   "id": "955acfd8",
   "metadata": {},
   "outputs": [],
   "source": []
  }
 ],
 "metadata": {
  "kernelspec": {
   "display_name": "venv (3.12.10)",
   "language": "python",
   "name": "python3"
  },
  "language_info": {
   "codemirror_mode": {
    "name": "ipython",
    "version": 3
   },
   "file_extension": ".py",
   "mimetype": "text/x-python",
   "name": "python",
   "nbconvert_exporter": "python",
   "pygments_lexer": "ipython3",
   "version": "3.12.10"
  }
 },
 "nbformat": 4,
 "nbformat_minor": 5
}
